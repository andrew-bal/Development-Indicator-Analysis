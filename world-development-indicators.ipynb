{
 "cells": [
  {
   "cell_type": "markdown",
   "metadata": {
    "papermill": {
     "duration": 0.028805,
     "end_time": "2021-03-11T16:12:51.714580",
     "exception": false,
     "start_time": "2021-03-11T16:12:51.685775",
     "status": "completed"
    },
    "tags": []
   },
   "source": [
    "# Introduction"
   ]
  },
  {
   "cell_type": "markdown",
   "metadata": {
    "papermill": {
     "duration": 0.027506,
     "end_time": "2021-03-11T16:12:51.769360",
     "exception": false,
     "start_time": "2021-03-11T16:12:51.741854",
     "status": "completed"
    },
    "tags": []
   },
   "source": [
    "The following notebook serves the purpose of showcasing types of SQL queries made using a dataset about world development indicators.\n",
    "\n",
    "The dataset can be accessed [here](https://www.kaggle.com/worldbank/world-development-indicators).\n"
   ]
  },
  {
   "cell_type": "markdown",
   "metadata": {
    "papermill": {
     "duration": 0.027075,
     "end_time": "2021-03-11T16:12:51.825122",
     "exception": false,
     "start_time": "2021-03-11T16:12:51.798047",
     "status": "completed"
    },
    "tags": []
   },
   "source": [
    "# Retrieving basic data from tables"
   ]
  },
  {
   "cell_type": "code",
   "execution_count": 1,
   "metadata": {
    "execution": {
     "iopub.execute_input": "2021-03-11T16:12:51.885724Z",
     "iopub.status.busy": "2021-03-11T16:12:51.885047Z",
     "iopub.status.idle": "2021-03-11T16:12:52.688961Z",
     "shell.execute_reply": "2021-03-11T16:12:52.689471Z"
    },
    "papermill": {
     "duration": 0.837502,
     "end_time": "2021-03-11T16:12:52.689856",
     "exception": false,
     "start_time": "2021-03-11T16:12:51.852354",
     "status": "completed"
    },
    "tags": []
   },
   "outputs": [],
   "source": [
    "# Importing libraries\n",
    "import sqlite3\n",
    "import numpy as np\n",
    "import pandas as pd\n",
    "pd.set_option('max_rows', 10)\n",
    "import matplotlib.pyplot as plt\n",
    "import seaborn as sns\n",
    "import warnings\n",
    "warnings.filterwarnings('ignore')"
   ]
  },
  {
   "cell_type": "code",
   "execution_count": 2,
   "metadata": {
    "execution": {
     "iopub.execute_input": "2021-03-11T16:12:52.749823Z",
     "iopub.status.busy": "2021-03-11T16:12:52.748904Z",
     "iopub.status.idle": "2021-03-11T16:12:52.767851Z",
     "shell.execute_reply": "2021-03-11T16:12:52.768329Z"
    },
    "papermill": {
     "duration": 0.049686,
     "end_time": "2021-03-11T16:12:52.768511",
     "exception": false,
     "start_time": "2021-03-11T16:12:52.718825",
     "status": "completed"
    },
    "tags": []
   },
   "outputs": [],
   "source": [
    "conn = sqlite3.connect('../input/world-development-indicators/database.sqlite')"
   ]
  },
  {
   "cell_type": "code",
   "execution_count": 3,
   "metadata": {
    "execution": {
     "iopub.execute_input": "2021-03-11T16:12:52.829005Z",
     "iopub.status.busy": "2021-03-11T16:12:52.828328Z",
     "iopub.status.idle": "2021-03-11T16:12:52.871031Z",
     "shell.execute_reply": "2021-03-11T16:12:52.871509Z"
    },
    "papermill": {
     "duration": 0.075609,
     "end_time": "2021-03-11T16:12:52.871691",
     "exception": false,
     "start_time": "2021-03-11T16:12:52.796082",
     "status": "completed"
    },
    "tags": []
   },
   "outputs": [
    {
     "data": {
      "text/html": [
       "<div>\n",
       "<style scoped>\n",
       "    .dataframe tbody tr th:only-of-type {\n",
       "        vertical-align: middle;\n",
       "    }\n",
       "\n",
       "    .dataframe tbody tr th {\n",
       "        vertical-align: top;\n",
       "    }\n",
       "\n",
       "    .dataframe thead th {\n",
       "        text-align: right;\n",
       "    }\n",
       "</style>\n",
       "<table border=\"1\" class=\"dataframe\">\n",
       "  <thead>\n",
       "    <tr style=\"text-align: right;\">\n",
       "      <th></th>\n",
       "      <th>type</th>\n",
       "      <th>name</th>\n",
       "      <th>tbl_name</th>\n",
       "      <th>rootpage</th>\n",
       "      <th>sql</th>\n",
       "    </tr>\n",
       "  </thead>\n",
       "  <tbody>\n",
       "    <tr>\n",
       "      <th>0</th>\n",
       "      <td>table</td>\n",
       "      <td>Country</td>\n",
       "      <td>Country</td>\n",
       "      <td>2</td>\n",
       "      <td>CREATE TABLE Country (\\n    CountryCode TEXT,\\...</td>\n",
       "    </tr>\n",
       "    <tr>\n",
       "      <th>1</th>\n",
       "      <td>table</td>\n",
       "      <td>CountryNotes</td>\n",
       "      <td>CountryNotes</td>\n",
       "      <td>186</td>\n",
       "      <td>CREATE TABLE CountryNotes (\\n    Countrycode T...</td>\n",
       "    </tr>\n",
       "    <tr>\n",
       "      <th>2</th>\n",
       "      <td>table</td>\n",
       "      <td>Series</td>\n",
       "      <td>Series</td>\n",
       "      <td>948</td>\n",
       "      <td>CREATE TABLE Series (\\n    SeriesCode TEXT,\\n ...</td>\n",
       "    </tr>\n",
       "    <tr>\n",
       "      <th>3</th>\n",
       "      <td>table</td>\n",
       "      <td>Indicators</td>\n",
       "      <td>Indicators</td>\n",
       "      <td>4448</td>\n",
       "      <td>CREATE TABLE Indicators (\\n    CountryName TEX...</td>\n",
       "    </tr>\n",
       "    <tr>\n",
       "      <th>4</th>\n",
       "      <td>table</td>\n",
       "      <td>SeriesNotes</td>\n",
       "      <td>SeriesNotes</td>\n",
       "      <td>1317550</td>\n",
       "      <td>CREATE TABLE SeriesNotes (\\n    Seriescode TEX...</td>\n",
       "    </tr>\n",
       "    <tr>\n",
       "      <th>5</th>\n",
       "      <td>table</td>\n",
       "      <td>Footnotes</td>\n",
       "      <td>Footnotes</td>\n",
       "      <td>1317587</td>\n",
       "      <td>CREATE TABLE Footnotes (\\n    Countrycode TEXT...</td>\n",
       "    </tr>\n",
       "  </tbody>\n",
       "</table>\n",
       "</div>"
      ],
      "text/plain": [
       "    type          name      tbl_name  rootpage  \\\n",
       "0  table       Country       Country         2   \n",
       "1  table  CountryNotes  CountryNotes       186   \n",
       "2  table        Series        Series       948   \n",
       "3  table    Indicators    Indicators      4448   \n",
       "4  table   SeriesNotes   SeriesNotes   1317550   \n",
       "5  table     Footnotes     Footnotes   1317587   \n",
       "\n",
       "                                                 sql  \n",
       "0  CREATE TABLE Country (\\n    CountryCode TEXT,\\...  \n",
       "1  CREATE TABLE CountryNotes (\\n    Countrycode T...  \n",
       "2  CREATE TABLE Series (\\n    SeriesCode TEXT,\\n ...  \n",
       "3  CREATE TABLE Indicators (\\n    CountryName TEX...  \n",
       "4  CREATE TABLE SeriesNotes (\\n    Seriescode TEX...  \n",
       "5  CREATE TABLE Footnotes (\\n    Countrycode TEXT...  "
      ]
     },
     "execution_count": 3,
     "metadata": {},
     "output_type": "execute_result"
    }
   ],
   "source": [
    "# Displaying SQL tables included in the dataset\n",
    "pd.read_sql(\"\"\" SELECT *\n",
    "                FROM sqlite_master\n",
    "                WHERE type='table';\"\"\", conn)"
   ]
  },
  {
   "cell_type": "code",
   "execution_count": 4,
   "metadata": {
    "execution": {
     "iopub.execute_input": "2021-03-11T16:12:52.933368Z",
     "iopub.status.busy": "2021-03-11T16:12:52.932741Z",
     "iopub.status.idle": "2021-03-11T16:12:52.959379Z",
     "shell.execute_reply": "2021-03-11T16:12:52.959975Z"
    },
    "papermill": {
     "duration": 0.059772,
     "end_time": "2021-03-11T16:12:52.960140",
     "exception": false,
     "start_time": "2021-03-11T16:12:52.900368",
     "status": "completed"
    },
    "tags": []
   },
   "outputs": [
    {
     "data": {
      "text/html": [
       "<div>\n",
       "<style scoped>\n",
       "    .dataframe tbody tr th:only-of-type {\n",
       "        vertical-align: middle;\n",
       "    }\n",
       "\n",
       "    .dataframe tbody tr th {\n",
       "        vertical-align: top;\n",
       "    }\n",
       "\n",
       "    .dataframe thead th {\n",
       "        text-align: right;\n",
       "    }\n",
       "</style>\n",
       "<table border=\"1\" class=\"dataframe\">\n",
       "  <thead>\n",
       "    <tr style=\"text-align: right;\">\n",
       "      <th></th>\n",
       "      <th>CountryName</th>\n",
       "      <th>CountryCode</th>\n",
       "      <th>IndicatorName</th>\n",
       "      <th>IndicatorCode</th>\n",
       "      <th>Year</th>\n",
       "      <th>Value</th>\n",
       "    </tr>\n",
       "  </thead>\n",
       "  <tbody>\n",
       "    <tr>\n",
       "      <th>0</th>\n",
       "      <td>Arab World</td>\n",
       "      <td>ARB</td>\n",
       "      <td>Adolescent fertility rate (births per 1,000 wo...</td>\n",
       "      <td>SP.ADO.TFRT</td>\n",
       "      <td>1960</td>\n",
       "      <td>1.335609e+02</td>\n",
       "    </tr>\n",
       "    <tr>\n",
       "      <th>1</th>\n",
       "      <td>Arab World</td>\n",
       "      <td>ARB</td>\n",
       "      <td>Age dependency ratio (% of working-age populat...</td>\n",
       "      <td>SP.POP.DPND</td>\n",
       "      <td>1960</td>\n",
       "      <td>8.779760e+01</td>\n",
       "    </tr>\n",
       "    <tr>\n",
       "      <th>2</th>\n",
       "      <td>Arab World</td>\n",
       "      <td>ARB</td>\n",
       "      <td>Age dependency ratio, old (% of working-age po...</td>\n",
       "      <td>SP.POP.DPND.OL</td>\n",
       "      <td>1960</td>\n",
       "      <td>6.634579e+00</td>\n",
       "    </tr>\n",
       "    <tr>\n",
       "      <th>3</th>\n",
       "      <td>Arab World</td>\n",
       "      <td>ARB</td>\n",
       "      <td>Age dependency ratio, young (% of working-age ...</td>\n",
       "      <td>SP.POP.DPND.YG</td>\n",
       "      <td>1960</td>\n",
       "      <td>8.102333e+01</td>\n",
       "    </tr>\n",
       "    <tr>\n",
       "      <th>4</th>\n",
       "      <td>Arab World</td>\n",
       "      <td>ARB</td>\n",
       "      <td>Arms exports (SIPRI trend indicator values)</td>\n",
       "      <td>MS.MIL.XPRT.KD</td>\n",
       "      <td>1960</td>\n",
       "      <td>3.000000e+06</td>\n",
       "    </tr>\n",
       "  </tbody>\n",
       "</table>\n",
       "</div>"
      ],
      "text/plain": [
       "  CountryName CountryCode                                      IndicatorName  \\\n",
       "0  Arab World         ARB  Adolescent fertility rate (births per 1,000 wo...   \n",
       "1  Arab World         ARB  Age dependency ratio (% of working-age populat...   \n",
       "2  Arab World         ARB  Age dependency ratio, old (% of working-age po...   \n",
       "3  Arab World         ARB  Age dependency ratio, young (% of working-age ...   \n",
       "4  Arab World         ARB        Arms exports (SIPRI trend indicator values)   \n",
       "\n",
       "    IndicatorCode  Year         Value  \n",
       "0     SP.ADO.TFRT  1960  1.335609e+02  \n",
       "1     SP.POP.DPND  1960  8.779760e+01  \n",
       "2  SP.POP.DPND.OL  1960  6.634579e+00  \n",
       "3  SP.POP.DPND.YG  1960  8.102333e+01  \n",
       "4  MS.MIL.XPRT.KD  1960  3.000000e+06  "
      ]
     },
     "execution_count": 4,
     "metadata": {},
     "output_type": "execute_result"
    }
   ],
   "source": [
    "# Structure of the Indicators table\n",
    "pd.read_sql(\"\"\"SELECT *\n",
    "               FROM Indicators\n",
    "               LIMIT 5;\"\"\", conn)"
   ]
  },
  {
   "cell_type": "code",
   "execution_count": 5,
   "metadata": {
    "execution": {
     "iopub.execute_input": "2021-03-11T16:12:53.021972Z",
     "iopub.status.busy": "2021-03-11T16:12:53.021325Z",
     "iopub.status.idle": "2021-03-11T16:12:53.061721Z",
     "shell.execute_reply": "2021-03-11T16:12:53.062183Z"
    },
    "papermill": {
     "duration": 0.072395,
     "end_time": "2021-03-11T16:12:53.062354",
     "exception": false,
     "start_time": "2021-03-11T16:12:52.989959",
     "status": "completed"
    },
    "tags": []
   },
   "outputs": [
    {
     "data": {
      "text/html": [
       "<div>\n",
       "<style scoped>\n",
       "    .dataframe tbody tr th:only-of-type {\n",
       "        vertical-align: middle;\n",
       "    }\n",
       "\n",
       "    .dataframe tbody tr th {\n",
       "        vertical-align: top;\n",
       "    }\n",
       "\n",
       "    .dataframe thead th {\n",
       "        text-align: right;\n",
       "    }\n",
       "</style>\n",
       "<table border=\"1\" class=\"dataframe\">\n",
       "  <thead>\n",
       "    <tr style=\"text-align: right;\">\n",
       "      <th></th>\n",
       "      <th>SeriesCode</th>\n",
       "      <th>Topic</th>\n",
       "      <th>IndicatorName</th>\n",
       "      <th>ShortDefinition</th>\n",
       "      <th>LongDefinition</th>\n",
       "      <th>UnitOfMeasure</th>\n",
       "      <th>Periodicity</th>\n",
       "      <th>BasePeriod</th>\n",
       "      <th>OtherNotes</th>\n",
       "      <th>AggregationMethod</th>\n",
       "      <th>LimitationsAndExceptions</th>\n",
       "      <th>NotesFromOriginalSource</th>\n",
       "      <th>GeneralComments</th>\n",
       "      <th>Source</th>\n",
       "      <th>StatisticalConceptAndMethodology</th>\n",
       "      <th>DevelopmentRelevance</th>\n",
       "      <th>RelatedSourceLinks</th>\n",
       "      <th>OtherWebLinks</th>\n",
       "      <th>RelatedIndicators</th>\n",
       "      <th>LicenseType</th>\n",
       "    </tr>\n",
       "  </thead>\n",
       "  <tbody>\n",
       "    <tr>\n",
       "      <th>0</th>\n",
       "      <td>BN.KLT.DINV.CD</td>\n",
       "      <td>Economic Policy &amp; Debt: Balance of payments: C...</td>\n",
       "      <td>Foreign direct investment, net (BoP, current US$)</td>\n",
       "      <td></td>\n",
       "      <td>Foreign direct investment are the net inflows ...</td>\n",
       "      <td></td>\n",
       "      <td>Annual</td>\n",
       "      <td></td>\n",
       "      <td></td>\n",
       "      <td></td>\n",
       "      <td></td>\n",
       "      <td></td>\n",
       "      <td>Note: Data are based on the sixth edition of t...</td>\n",
       "      <td>International Monetary Fund, Balance of Paymen...</td>\n",
       "      <td></td>\n",
       "      <td></td>\n",
       "      <td></td>\n",
       "      <td></td>\n",
       "      <td></td>\n",
       "      <td>Open</td>\n",
       "    </tr>\n",
       "    <tr>\n",
       "      <th>1</th>\n",
       "      <td>BX.KLT.DINV.WD.GD.ZS</td>\n",
       "      <td>Economic Policy &amp; Debt: Balance of payments: C...</td>\n",
       "      <td>Foreign direct investment, net inflows (% of GDP)</td>\n",
       "      <td></td>\n",
       "      <td>Foreign direct investment are the net inflows ...</td>\n",
       "      <td></td>\n",
       "      <td>Annual</td>\n",
       "      <td></td>\n",
       "      <td></td>\n",
       "      <td>Weighted average</td>\n",
       "      <td>FDI data do not give a complete picture of int...</td>\n",
       "      <td></td>\n",
       "      <td>Note: Data starting from 2005 are based on the...</td>\n",
       "      <td>International Monetary Fund, International Fin...</td>\n",
       "      <td>Data on equity flows are based on balance of p...</td>\n",
       "      <td>Private financial flows - equity and debt - ac...</td>\n",
       "      <td></td>\n",
       "      <td></td>\n",
       "      <td></td>\n",
       "      <td>Open</td>\n",
       "    </tr>\n",
       "    <tr>\n",
       "      <th>2</th>\n",
       "      <td>BX.KLT.DINV.CD.WD</td>\n",
       "      <td>Economic Policy &amp; Debt: Balance of payments: C...</td>\n",
       "      <td>Foreign direct investment, net inflows (BoP, c...</td>\n",
       "      <td></td>\n",
       "      <td>Foreign direct investment refers to direct inv...</td>\n",
       "      <td></td>\n",
       "      <td>Annual</td>\n",
       "      <td></td>\n",
       "      <td></td>\n",
       "      <td>Sum</td>\n",
       "      <td>FDI data do not give a complete picture of int...</td>\n",
       "      <td></td>\n",
       "      <td>Note: Data starting from 2005 are based on the...</td>\n",
       "      <td>International Monetary Fund, Balance of Paymen...</td>\n",
       "      <td>Data on equity flows are based on balance of p...</td>\n",
       "      <td>Private financial flows - equity and debt - ac...</td>\n",
       "      <td></td>\n",
       "      <td></td>\n",
       "      <td></td>\n",
       "      <td>Open</td>\n",
       "    </tr>\n",
       "  </tbody>\n",
       "</table>\n",
       "</div>"
      ],
      "text/plain": [
       "             SeriesCode                                              Topic  \\\n",
       "0        BN.KLT.DINV.CD  Economic Policy & Debt: Balance of payments: C...   \n",
       "1  BX.KLT.DINV.WD.GD.ZS  Economic Policy & Debt: Balance of payments: C...   \n",
       "2     BX.KLT.DINV.CD.WD  Economic Policy & Debt: Balance of payments: C...   \n",
       "\n",
       "                                       IndicatorName ShortDefinition  \\\n",
       "0  Foreign direct investment, net (BoP, current US$)                   \n",
       "1  Foreign direct investment, net inflows (% of GDP)                   \n",
       "2  Foreign direct investment, net inflows (BoP, c...                   \n",
       "\n",
       "                                      LongDefinition UnitOfMeasure  \\\n",
       "0  Foreign direct investment are the net inflows ...                 \n",
       "1  Foreign direct investment are the net inflows ...                 \n",
       "2  Foreign direct investment refers to direct inv...                 \n",
       "\n",
       "  Periodicity BasePeriod OtherNotes AggregationMethod  \\\n",
       "0      Annual                                           \n",
       "1      Annual                        Weighted average   \n",
       "2      Annual                                     Sum   \n",
       "\n",
       "                            LimitationsAndExceptions NotesFromOriginalSource  \\\n",
       "0                                                                              \n",
       "1  FDI data do not give a complete picture of int...                           \n",
       "2  FDI data do not give a complete picture of int...                           \n",
       "\n",
       "                                     GeneralComments  \\\n",
       "0  Note: Data are based on the sixth edition of t...   \n",
       "1  Note: Data starting from 2005 are based on the...   \n",
       "2  Note: Data starting from 2005 are based on the...   \n",
       "\n",
       "                                              Source  \\\n",
       "0  International Monetary Fund, Balance of Paymen...   \n",
       "1  International Monetary Fund, International Fin...   \n",
       "2  International Monetary Fund, Balance of Paymen...   \n",
       "\n",
       "                    StatisticalConceptAndMethodology  \\\n",
       "0                                                      \n",
       "1  Data on equity flows are based on balance of p...   \n",
       "2  Data on equity flows are based on balance of p...   \n",
       "\n",
       "                                DevelopmentRelevance RelatedSourceLinks  \\\n",
       "0                                                                         \n",
       "1  Private financial flows - equity and debt - ac...                      \n",
       "2  Private financial flows - equity and debt - ac...                      \n",
       "\n",
       "  OtherWebLinks RelatedIndicators LicenseType  \n",
       "0                                        Open  \n",
       "1                                        Open  \n",
       "2                                        Open  "
      ]
     },
     "execution_count": 5,
     "metadata": {},
     "output_type": "execute_result"
    }
   ],
   "source": [
    "# Structure of the Series table\n",
    "pd.read_sql(\"\"\" SELECT *\n",
    "                FROM Series\n",
    "                LIMIT 3;\"\"\",conn)\n"
   ]
  },
  {
   "cell_type": "code",
   "execution_count": 6,
   "metadata": {
    "execution": {
     "iopub.execute_input": "2021-03-11T16:12:53.126832Z",
     "iopub.status.busy": "2021-03-11T16:12:53.125948Z",
     "iopub.status.idle": "2021-03-11T16:12:53.158697Z",
     "shell.execute_reply": "2021-03-11T16:12:53.159170Z"
    },
    "papermill": {
     "duration": 0.067104,
     "end_time": "2021-03-11T16:12:53.159346",
     "exception": false,
     "start_time": "2021-03-11T16:12:53.092242",
     "status": "completed"
    },
    "tags": []
   },
   "outputs": [
    {
     "data": {
      "text/html": [
       "<div>\n",
       "<style scoped>\n",
       "    .dataframe tbody tr th:only-of-type {\n",
       "        vertical-align: middle;\n",
       "    }\n",
       "\n",
       "    .dataframe tbody tr th {\n",
       "        vertical-align: top;\n",
       "    }\n",
       "\n",
       "    .dataframe thead th {\n",
       "        text-align: right;\n",
       "    }\n",
       "</style>\n",
       "<table border=\"1\" class=\"dataframe\">\n",
       "  <thead>\n",
       "    <tr style=\"text-align: right;\">\n",
       "      <th></th>\n",
       "      <th>CountryCode</th>\n",
       "      <th>ShortName</th>\n",
       "      <th>TableName</th>\n",
       "      <th>LongName</th>\n",
       "      <th>Alpha2Code</th>\n",
       "      <th>CurrencyUnit</th>\n",
       "      <th>SpecialNotes</th>\n",
       "      <th>Region</th>\n",
       "      <th>IncomeGroup</th>\n",
       "      <th>Wb2Code</th>\n",
       "      <th>...</th>\n",
       "      <th>GovernmentAccountingConcept</th>\n",
       "      <th>ImfDataDisseminationStandard</th>\n",
       "      <th>LatestPopulationCensus</th>\n",
       "      <th>LatestHouseholdSurvey</th>\n",
       "      <th>SourceOfMostRecentIncomeAndExpenditureData</th>\n",
       "      <th>VitalRegistrationComplete</th>\n",
       "      <th>LatestAgriculturalCensus</th>\n",
       "      <th>LatestIndustrialData</th>\n",
       "      <th>LatestTradeData</th>\n",
       "      <th>LatestWaterWithdrawalData</th>\n",
       "    </tr>\n",
       "  </thead>\n",
       "  <tbody>\n",
       "    <tr>\n",
       "      <th>0</th>\n",
       "      <td>AFG</td>\n",
       "      <td>Afghanistan</td>\n",
       "      <td>Afghanistan</td>\n",
       "      <td>Islamic State of Afghanistan</td>\n",
       "      <td>AF</td>\n",
       "      <td>Afghan afghani</td>\n",
       "      <td>Fiscal year end: March 20; reporting period fo...</td>\n",
       "      <td>South Asia</td>\n",
       "      <td>Low income</td>\n",
       "      <td>AF</td>\n",
       "      <td>...</td>\n",
       "      <td>Consolidated central government</td>\n",
       "      <td>General Data Dissemination System (GDDS)</td>\n",
       "      <td>1979</td>\n",
       "      <td>Multiple Indicator Cluster Survey (MICS), 2010/11</td>\n",
       "      <td>Integrated household survey (IHS), 2008</td>\n",
       "      <td></td>\n",
       "      <td>2013/14</td>\n",
       "      <td></td>\n",
       "      <td>2013</td>\n",
       "      <td>2000</td>\n",
       "    </tr>\n",
       "    <tr>\n",
       "      <th>1</th>\n",
       "      <td>ALB</td>\n",
       "      <td>Albania</td>\n",
       "      <td>Albania</td>\n",
       "      <td>Republic of Albania</td>\n",
       "      <td>AL</td>\n",
       "      <td>Albanian lek</td>\n",
       "      <td></td>\n",
       "      <td>Europe &amp; Central Asia</td>\n",
       "      <td>Upper middle income</td>\n",
       "      <td>AL</td>\n",
       "      <td>...</td>\n",
       "      <td>Budgetary central government</td>\n",
       "      <td>General Data Dissemination System (GDDS)</td>\n",
       "      <td>2011</td>\n",
       "      <td>Demographic and Health Survey (DHS), 2008/09</td>\n",
       "      <td>Living Standards Measurement Study Survey (LSM...</td>\n",
       "      <td>Yes</td>\n",
       "      <td>2012</td>\n",
       "      <td>2011</td>\n",
       "      <td>2013</td>\n",
       "      <td>2006</td>\n",
       "    </tr>\n",
       "    <tr>\n",
       "      <th>2</th>\n",
       "      <td>DZA</td>\n",
       "      <td>Algeria</td>\n",
       "      <td>Algeria</td>\n",
       "      <td>People's Democratic Republic of Algeria</td>\n",
       "      <td>DZ</td>\n",
       "      <td>Algerian dinar</td>\n",
       "      <td></td>\n",
       "      <td>Middle East &amp; North Africa</td>\n",
       "      <td>Upper middle income</td>\n",
       "      <td>DZ</td>\n",
       "      <td>...</td>\n",
       "      <td>Budgetary central government</td>\n",
       "      <td>General Data Dissemination System (GDDS)</td>\n",
       "      <td>2008</td>\n",
       "      <td>Multiple Indicator Cluster Survey (MICS), 2012</td>\n",
       "      <td>Integrated household survey (IHS), 1995</td>\n",
       "      <td></td>\n",
       "      <td></td>\n",
       "      <td>2010</td>\n",
       "      <td>2013</td>\n",
       "      <td>2001</td>\n",
       "    </tr>\n",
       "  </tbody>\n",
       "</table>\n",
       "<p>3 rows × 31 columns</p>\n",
       "</div>"
      ],
      "text/plain": [
       "  CountryCode    ShortName    TableName  \\\n",
       "0         AFG  Afghanistan  Afghanistan   \n",
       "1         ALB      Albania      Albania   \n",
       "2         DZA      Algeria      Algeria   \n",
       "\n",
       "                                  LongName Alpha2Code    CurrencyUnit  \\\n",
       "0             Islamic State of Afghanistan         AF  Afghan afghani   \n",
       "1                      Republic of Albania         AL    Albanian lek   \n",
       "2  People's Democratic Republic of Algeria         DZ  Algerian dinar   \n",
       "\n",
       "                                        SpecialNotes  \\\n",
       "0  Fiscal year end: March 20; reporting period fo...   \n",
       "1                                                      \n",
       "2                                                      \n",
       "\n",
       "                       Region          IncomeGroup Wb2Code  ...  \\\n",
       "0                  South Asia           Low income      AF  ...   \n",
       "1       Europe & Central Asia  Upper middle income      AL  ...   \n",
       "2  Middle East & North Africa  Upper middle income      DZ  ...   \n",
       "\n",
       "       GovernmentAccountingConcept              ImfDataDisseminationStandard  \\\n",
       "0  Consolidated central government  General Data Dissemination System (GDDS)   \n",
       "1     Budgetary central government  General Data Dissemination System (GDDS)   \n",
       "2     Budgetary central government  General Data Dissemination System (GDDS)   \n",
       "\n",
       "  LatestPopulationCensus                              LatestHouseholdSurvey  \\\n",
       "0                   1979  Multiple Indicator Cluster Survey (MICS), 2010/11   \n",
       "1                   2011       Demographic and Health Survey (DHS), 2008/09   \n",
       "2                   2008     Multiple Indicator Cluster Survey (MICS), 2012   \n",
       "\n",
       "          SourceOfMostRecentIncomeAndExpenditureData  \\\n",
       "0            Integrated household survey (IHS), 2008   \n",
       "1  Living Standards Measurement Study Survey (LSM...   \n",
       "2            Integrated household survey (IHS), 1995   \n",
       "\n",
       "  VitalRegistrationComplete LatestAgriculturalCensus LatestIndustrialData  \\\n",
       "0                                            2013/14                        \n",
       "1                       Yes                     2012                 2011   \n",
       "2                                                                    2010   \n",
       "\n",
       "  LatestTradeData LatestWaterWithdrawalData  \n",
       "0            2013                      2000  \n",
       "1            2013                      2006  \n",
       "2            2013                      2001  \n",
       "\n",
       "[3 rows x 31 columns]"
      ]
     },
     "execution_count": 6,
     "metadata": {},
     "output_type": "execute_result"
    }
   ],
   "source": [
    "# Structure of the Country table\n",
    "pd.read_sql(\"\"\" SELECT *\n",
    "                FROM Country\n",
    "                LIMIT 3;\"\"\",conn)"
   ]
  },
  {
   "cell_type": "markdown",
   "metadata": {
    "papermill": {
     "duration": 0.029922,
     "end_time": "2021-03-11T16:12:53.219941",
     "exception": false,
     "start_time": "2021-03-11T16:12:53.190019",
     "status": "completed"
    },
    "tags": []
   },
   "source": [
    "Total number of indicators in the dataset: 1344"
   ]
  },
  {
   "cell_type": "code",
   "execution_count": 7,
   "metadata": {
    "execution": {
     "iopub.execute_input": "2021-03-11T16:12:53.283850Z",
     "iopub.status.busy": "2021-03-11T16:12:53.283237Z",
     "iopub.status.idle": "2021-03-11T16:12:58.216158Z",
     "shell.execute_reply": "2021-03-11T16:12:58.215321Z"
    },
    "papermill": {
     "duration": 4.966054,
     "end_time": "2021-03-11T16:12:58.216311",
     "exception": false,
     "start_time": "2021-03-11T16:12:53.250257",
     "status": "completed"
    },
    "tags": []
   },
   "outputs": [
    {
     "data": {
      "text/html": [
       "<div>\n",
       "<style scoped>\n",
       "    .dataframe tbody tr th:only-of-type {\n",
       "        vertical-align: middle;\n",
       "    }\n",
       "\n",
       "    .dataframe tbody tr th {\n",
       "        vertical-align: top;\n",
       "    }\n",
       "\n",
       "    .dataframe thead th {\n",
       "        text-align: right;\n",
       "    }\n",
       "</style>\n",
       "<table border=\"1\" class=\"dataframe\">\n",
       "  <thead>\n",
       "    <tr style=\"text-align: right;\">\n",
       "      <th></th>\n",
       "      <th>Num_indicators</th>\n",
       "    </tr>\n",
       "  </thead>\n",
       "  <tbody>\n",
       "    <tr>\n",
       "      <th>0</th>\n",
       "      <td>1344</td>\n",
       "    </tr>\n",
       "  </tbody>\n",
       "</table>\n",
       "</div>"
      ],
      "text/plain": [
       "   Num_indicators\n",
       "0            1344"
      ]
     },
     "execution_count": 7,
     "metadata": {},
     "output_type": "execute_result"
    }
   ],
   "source": [
    "# Total number of indicators\n",
    "pd.read_sql(\"\"\"SELECT COUNT(DISTINCT IndicatorName) AS Num_indicators\n",
    "               FROM Indicators;\"\"\",conn)"
   ]
  },
  {
   "cell_type": "code",
   "execution_count": 8,
   "metadata": {
    "execution": {
     "iopub.execute_input": "2021-03-11T16:12:58.283395Z",
     "iopub.status.busy": "2021-03-11T16:12:58.282806Z",
     "iopub.status.idle": "2021-03-11T16:12:58.326432Z",
     "shell.execute_reply": "2021-03-11T16:12:58.325932Z"
    },
    "papermill": {
     "duration": 0.078344,
     "end_time": "2021-03-11T16:12:58.326571",
     "exception": false,
     "start_time": "2021-03-11T16:12:58.248227",
     "status": "completed"
    },
    "tags": []
   },
   "outputs": [
    {
     "data": {
      "text/html": [
       "<div>\n",
       "<style scoped>\n",
       "    .dataframe tbody tr th:only-of-type {\n",
       "        vertical-align: middle;\n",
       "    }\n",
       "\n",
       "    .dataframe tbody tr th {\n",
       "        vertical-align: top;\n",
       "    }\n",
       "\n",
       "    .dataframe thead th {\n",
       "        text-align: right;\n",
       "    }\n",
       "</style>\n",
       "<table border=\"1\" class=\"dataframe\">\n",
       "  <thead>\n",
       "    <tr style=\"text-align: right;\">\n",
       "      <th></th>\n",
       "      <th>Num_of_null</th>\n",
       "    </tr>\n",
       "  </thead>\n",
       "  <tbody>\n",
       "    <tr>\n",
       "      <th>0</th>\n",
       "      <td>0</td>\n",
       "    </tr>\n",
       "  </tbody>\n",
       "</table>\n",
       "</div>"
      ],
      "text/plain": [
       "   Num_of_null\n",
       "0            0"
      ]
     },
     "execution_count": 8,
     "metadata": {},
     "output_type": "execute_result"
    }
   ],
   "source": [
    "# There are no null values in the dataset\n",
    "pd.read_sql(\"\"\"SELECT COUNT(*) AS Num_of_null\n",
    "               FROM Indicators\n",
    "               WHERE IndicatorName IS NULL;\"\"\",conn)"
   ]
  },
  {
   "cell_type": "code",
   "execution_count": 9,
   "metadata": {
    "execution": {
     "iopub.execute_input": "2021-03-11T16:12:58.394687Z",
     "iopub.status.busy": "2021-03-11T16:12:58.394034Z",
     "iopub.status.idle": "2021-03-11T16:13:02.104728Z",
     "shell.execute_reply": "2021-03-11T16:13:02.105360Z"
    },
    "papermill": {
     "duration": 3.747374,
     "end_time": "2021-03-11T16:13:02.105541",
     "exception": false,
     "start_time": "2021-03-11T16:12:58.358167",
     "status": "completed"
    },
    "tags": []
   },
   "outputs": [
    {
     "data": {
      "text/html": [
       "<div>\n",
       "<style scoped>\n",
       "    .dataframe tbody tr th:only-of-type {\n",
       "        vertical-align: middle;\n",
       "    }\n",
       "\n",
       "    .dataframe tbody tr th {\n",
       "        vertical-align: top;\n",
       "    }\n",
       "\n",
       "    .dataframe thead th {\n",
       "        text-align: right;\n",
       "    }\n",
       "</style>\n",
       "<table border=\"1\" class=\"dataframe\">\n",
       "  <thead>\n",
       "    <tr style=\"text-align: right;\">\n",
       "      <th></th>\n",
       "      <th>IndicatorName</th>\n",
       "    </tr>\n",
       "  </thead>\n",
       "  <tbody>\n",
       "    <tr>\n",
       "      <th>0</th>\n",
       "      <td>Principal rescheduled, private (current US$)</td>\n",
       "    </tr>\n",
       "    <tr>\n",
       "      <th>1</th>\n",
       "      <td>Bound rate, simple mean, manufactured products (%)</td>\n",
       "    </tr>\n",
       "    <tr>\n",
       "      <th>2</th>\n",
       "      <td>Population density (people per sq. km of land area)</td>\n",
       "    </tr>\n",
       "    <tr>\n",
       "      <th>3</th>\n",
       "      <td>Net bilateral aid flows from DAC donors, New Zealand (current US$)</td>\n",
       "    </tr>\n",
       "    <tr>\n",
       "      <th>4</th>\n",
       "      <td>GDP per capita (current LCU)</td>\n",
       "    </tr>\n",
       "    <tr>\n",
       "      <th>5</th>\n",
       "      <td>Public credit registry coverage (% of adults)</td>\n",
       "    </tr>\n",
       "    <tr>\n",
       "      <th>6</th>\n",
       "      <td>Net bilateral aid flows from DAC donors, Germany (current US$)</td>\n",
       "    </tr>\n",
       "    <tr>\n",
       "      <th>7</th>\n",
       "      <td>Debt service on external debt, private nonguaranteed (PNG) (TDS, current US$)</td>\n",
       "    </tr>\n",
       "    <tr>\n",
       "      <th>8</th>\n",
       "      <td>Gross capital formation (current LCU)</td>\n",
       "    </tr>\n",
       "    <tr>\n",
       "      <th>9</th>\n",
       "      <td>Gross savings (% of GDP)</td>\n",
       "    </tr>\n",
       "  </tbody>\n",
       "</table>\n",
       "</div>"
      ],
      "text/plain": [
       "                                                                   IndicatorName\n",
       "0                                   Principal rescheduled, private (current US$)\n",
       "1                             Bound rate, simple mean, manufactured products (%)\n",
       "2                            Population density (people per sq. km of land area)\n",
       "3             Net bilateral aid flows from DAC donors, New Zealand (current US$)\n",
       "4                                                   GDP per capita (current LCU)\n",
       "5                                  Public credit registry coverage (% of adults)\n",
       "6                 Net bilateral aid flows from DAC donors, Germany (current US$)\n",
       "7  Debt service on external debt, private nonguaranteed (PNG) (TDS, current US$)\n",
       "8                                          Gross capital formation (current LCU)\n",
       "9                                                       Gross savings (% of GDP)"
      ]
     },
     "execution_count": 9,
     "metadata": {},
     "output_type": "execute_result"
    }
   ],
   "source": [
    "# Retrieving 10 randomly selected example indicator names\n",
    "pd.options.display.max_colwidth = 300\n",
    "pd.read_sql(\"\"\" SELECT IndicatorName\n",
    "                FROM Indicators\n",
    "                ORDER BY RANDOM()\n",
    "                Limit 10;\"\"\",conn)"
   ]
  },
  {
   "cell_type": "markdown",
   "metadata": {
    "papermill": {
     "duration": 0.031282,
     "end_time": "2021-03-11T16:13:02.168757",
     "exception": false,
     "start_time": "2021-03-11T16:13:02.137475",
     "status": "completed"
    },
    "tags": []
   },
   "source": [
    "# Filtering, grouping"
   ]
  },
  {
   "cell_type": "markdown",
   "metadata": {
    "papermill": {
     "duration": 0.031391,
     "end_time": "2021-03-11T16:13:02.232072",
     "exception": false,
     "start_time": "2021-03-11T16:13:02.200681",
     "status": "completed"
    },
    "tags": []
   },
   "source": [
    "### Question: How many countries are there by region including all years?"
   ]
  },
  {
   "cell_type": "code",
   "execution_count": 10,
   "metadata": {
    "execution": {
     "iopub.execute_input": "2021-03-11T16:13:02.298746Z",
     "iopub.status.busy": "2021-03-11T16:13:02.298082Z",
     "iopub.status.idle": "2021-03-11T16:13:02.345738Z",
     "shell.execute_reply": "2021-03-11T16:13:02.345007Z"
    },
    "papermill": {
     "duration": 0.081995,
     "end_time": "2021-03-11T16:13:02.345876",
     "exception": false,
     "start_time": "2021-03-11T16:13:02.263881",
     "status": "completed"
    },
    "tags": []
   },
   "outputs": [
    {
     "data": {
      "text/html": [
       "<div>\n",
       "<style scoped>\n",
       "    .dataframe tbody tr th:only-of-type {\n",
       "        vertical-align: middle;\n",
       "    }\n",
       "\n",
       "    .dataframe tbody tr th {\n",
       "        vertical-align: top;\n",
       "    }\n",
       "\n",
       "    .dataframe thead th {\n",
       "        text-align: right;\n",
       "    }\n",
       "</style>\n",
       "<table border=\"1\" class=\"dataframe\">\n",
       "  <thead>\n",
       "    <tr style=\"text-align: right;\">\n",
       "      <th></th>\n",
       "      <th>Region</th>\n",
       "      <th>Num_countries</th>\n",
       "    </tr>\n",
       "  </thead>\n",
       "  <tbody>\n",
       "    <tr>\n",
       "      <th>0</th>\n",
       "      <td>North America</td>\n",
       "      <td>3</td>\n",
       "    </tr>\n",
       "    <tr>\n",
       "      <th>1</th>\n",
       "      <td>South Asia</td>\n",
       "      <td>8</td>\n",
       "    </tr>\n",
       "    <tr>\n",
       "      <th>2</th>\n",
       "      <td>Middle East &amp; North Africa</td>\n",
       "      <td>21</td>\n",
       "    </tr>\n",
       "    <tr>\n",
       "      <th>3</th>\n",
       "      <td></td>\n",
       "      <td>33</td>\n",
       "    </tr>\n",
       "    <tr>\n",
       "      <th>4</th>\n",
       "      <td>East Asia &amp; Pacific</td>\n",
       "      <td>36</td>\n",
       "    </tr>\n",
       "    <tr>\n",
       "      <th>5</th>\n",
       "      <td>Latin America &amp; Caribbean</td>\n",
       "      <td>41</td>\n",
       "    </tr>\n",
       "    <tr>\n",
       "      <th>6</th>\n",
       "      <td>Sub-Saharan Africa</td>\n",
       "      <td>48</td>\n",
       "    </tr>\n",
       "    <tr>\n",
       "      <th>7</th>\n",
       "      <td>Europe &amp; Central Asia</td>\n",
       "      <td>57</td>\n",
       "    </tr>\n",
       "  </tbody>\n",
       "</table>\n",
       "</div>"
      ],
      "text/plain": [
       "                       Region  Num_countries\n",
       "0               North America              3\n",
       "1                  South Asia              8\n",
       "2  Middle East & North Africa             21\n",
       "3                                         33\n",
       "4         East Asia & Pacific             36\n",
       "5   Latin America & Caribbean             41\n",
       "6          Sub-Saharan Africa             48\n",
       "7       Europe & Central Asia             57"
      ]
     },
     "execution_count": 10,
     "metadata": {},
     "output_type": "execute_result"
    }
   ],
   "source": [
    "# Number of countries by region throughout the years\n",
    "regions = pd.read_sql(\"\"\"SELECT Region, COUNT(*) AS Num_countries\n",
    "               FROM Country \n",
    "               GROUP BY Region\n",
    "               ORDER BY 2 ASC;\"\"\", conn)\n",
    "regions"
   ]
  },
  {
   "cell_type": "code",
   "execution_count": 11,
   "metadata": {
    "execution": {
     "iopub.execute_input": "2021-03-11T16:13:02.439431Z",
     "iopub.status.busy": "2021-03-11T16:13:02.423174Z",
     "iopub.status.idle": "2021-03-11T16:13:02.691956Z",
     "shell.execute_reply": "2021-03-11T16:13:02.692437Z"
    },
    "papermill": {
     "duration": 0.313889,
     "end_time": "2021-03-11T16:13:02.692639",
     "exception": false,
     "start_time": "2021-03-11T16:13:02.378750",
     "status": "completed"
    },
    "tags": []
   },
   "outputs": [
    {
     "data": {
      "image/png": "[encoded data removed]",
      "text/plain": [
       "<Figure size 864x576 with 1 Axes>"
      ]
     },
     "metadata": {},
     "output_type": "display_data"
    }
   ],
   "source": [
    "# Visualing number of countries per region\n",
    "regions['Region'][4] = 'Unknown'\n",
    "sns.set_theme()\n",
    "fig, ax = plt.subplots(figsize=(12,8))\n",
    "colors = sns.color_palette('cubehelix',16)\n",
    "ax = sns.barplot(x=\"Num_countries\", y=\"Region\", data=regions, palette=colors)\n",
    "ax.set(xlabel='Number of Countries',ylabel=None)\n",
    "ax.set_title('Number of Countries per Region', fontsize = 16)\n",
    "for ax in fig.axes:\n",
    "    for label in ax.get_yticklabels():\n",
    "        label.set_rotation(0)"
   ]
  },
  {
   "cell_type": "markdown",
   "metadata": {
    "papermill": {
     "duration": 0.033707,
     "end_time": "2021-03-11T16:13:02.760615",
     "exception": false,
     "start_time": "2021-03-11T16:13:02.726908",
     "status": "completed"
    },
    "tags": []
   },
   "source": [
    "### Question: How many different indicators do countries have in 2014? Limit to top 20."
   ]
  },
  {
   "cell_type": "code",
   "execution_count": 12,
   "metadata": {
    "execution": {
     "iopub.execute_input": "2021-03-11T16:13:02.833778Z",
     "iopub.status.busy": "2021-03-11T16:13:02.832990Z",
     "iopub.status.idle": "2021-03-11T16:13:03.184187Z",
     "shell.execute_reply": "2021-03-11T16:13:03.184652Z"
    },
    "papermill": {
     "duration": 0.390591,
     "end_time": "2021-03-11T16:13:03.184836",
     "exception": false,
     "start_time": "2021-03-11T16:13:02.794245",
     "status": "completed"
    },
    "tags": []
   },
   "outputs": [
    {
     "data": {
      "text/html": [
       "<div>\n",
       "<style scoped>\n",
       "    .dataframe tbody tr th:only-of-type {\n",
       "        vertical-align: middle;\n",
       "    }\n",
       "\n",
       "    .dataframe tbody tr th {\n",
       "        vertical-align: top;\n",
       "    }\n",
       "\n",
       "    .dataframe thead th {\n",
       "        text-align: right;\n",
       "    }\n",
       "</style>\n",
       "<table border=\"1\" class=\"dataframe\">\n",
       "  <thead>\n",
       "    <tr style=\"text-align: right;\">\n",
       "      <th></th>\n",
       "      <th>CountryName</th>\n",
       "      <th>Num_ind</th>\n",
       "    </tr>\n",
       "  </thead>\n",
       "  <tbody>\n",
       "    <tr>\n",
       "      <th>0</th>\n",
       "      <td>Turkey</td>\n",
       "      <td>717</td>\n",
       "    </tr>\n",
       "    <tr>\n",
       "      <th>1</th>\n",
       "      <td>South Africa</td>\n",
       "      <td>701</td>\n",
       "    </tr>\n",
       "    <tr>\n",
       "      <th>2</th>\n",
       "      <td>Macedonia, FYR</td>\n",
       "      <td>701</td>\n",
       "    </tr>\n",
       "    <tr>\n",
       "      <th>3</th>\n",
       "      <td>Romania</td>\n",
       "      <td>696</td>\n",
       "    </tr>\n",
       "    <tr>\n",
       "      <th>4</th>\n",
       "      <td>Bulgaria</td>\n",
       "      <td>694</td>\n",
       "    </tr>\n",
       "    <tr>\n",
       "      <th>...</th>\n",
       "      <td>...</td>\n",
       "      <td>...</td>\n",
       "    </tr>\n",
       "    <tr>\n",
       "      <th>15</th>\n",
       "      <td>Senegal</td>\n",
       "      <td>651</td>\n",
       "    </tr>\n",
       "    <tr>\n",
       "      <th>16</th>\n",
       "      <td>Nicaragua</td>\n",
       "      <td>651</td>\n",
       "    </tr>\n",
       "    <tr>\n",
       "      <th>17</th>\n",
       "      <td>Bolivia</td>\n",
       "      <td>650</td>\n",
       "    </tr>\n",
       "    <tr>\n",
       "      <th>18</th>\n",
       "      <td>Malaysia</td>\n",
       "      <td>649</td>\n",
       "    </tr>\n",
       "    <tr>\n",
       "      <th>19</th>\n",
       "      <td>Georgia</td>\n",
       "      <td>648</td>\n",
       "    </tr>\n",
       "  </tbody>\n",
       "</table>\n",
       "<p>20 rows × 2 columns</p>\n",
       "</div>"
      ],
      "text/plain": [
       "       CountryName  Num_ind\n",
       "0           Turkey      717\n",
       "1     South Africa      701\n",
       "2   Macedonia, FYR      701\n",
       "3          Romania      696\n",
       "4         Bulgaria      694\n",
       "..             ...      ...\n",
       "15         Senegal      651\n",
       "16       Nicaragua      651\n",
       "17         Bolivia      650\n",
       "18        Malaysia      649\n",
       "19         Georgia      648\n",
       "\n",
       "[20 rows x 2 columns]"
      ]
     },
     "execution_count": 12,
     "metadata": {},
     "output_type": "execute_result"
    }
   ],
   "source": [
    "# Top 20 countries that have the most number of indicators in 2014\n",
    "top20_ind = pd.read_sql(\"\"\"SELECT CountryName,COUNT(DISTINCT IndicatorName) AS Num_ind\n",
    "               FROM Indicators\n",
    "               WHERE Year = 2014\n",
    "               GROUP BY CountryName\n",
    "               ORDER BY 2 DESC\n",
    "               LIMIT 20;\"\"\", conn)\n",
    "top20_ind"
   ]
  },
  {
   "cell_type": "code",
   "execution_count": 13,
   "metadata": {
    "execution": {
     "iopub.execute_input": "2021-03-11T16:13:03.258386Z",
     "iopub.status.busy": "2021-03-11T16:13:03.257536Z",
     "iopub.status.idle": "2021-03-11T16:13:03.593932Z",
     "shell.execute_reply": "2021-03-11T16:13:03.593355Z"
    },
    "papermill": {
     "duration": 0.374607,
     "end_time": "2021-03-11T16:13:03.594066",
     "exception": false,
     "start_time": "2021-03-11T16:13:03.219459",
     "status": "completed"
    },
    "tags": []
   },
   "outputs": [
    {
     "data": {
      "image/png": "[encoded data removed]",
      "text/plain": [
       "<Figure size 864x576 with 1 Axes>"
      ]
     },
     "metadata": {},
     "output_type": "display_data"
    }
   ],
   "source": [
    "# Visualising top 20 contries\n",
    "sns.set_theme()\n",
    "fig, ax = plt.subplots(figsize=(12,8))\n",
    "colors = sns.color_palette('cubehelix',25)\n",
    "ax = sns.barplot(x=\"Num_ind\", y=\"CountryName\", data=top20_ind, palette=colors)\n",
    "ax.set(xlabel='Number of indicators',ylabel=None)\n",
    "ax.set_title('Countries with most number of indicators in 2014', fontsize = 16)\n",
    "ax.set(xlim=(620, 720))\n",
    "for ax in fig.axes:\n",
    "    for label in ax.get_yticklabels():\n",
    "        label.set_rotation(0)"
   ]
  },
  {
   "cell_type": "markdown",
   "metadata": {
    "papermill": {
     "duration": 0.035657,
     "end_time": "2021-03-11T16:13:03.665793",
     "exception": false,
     "start_time": "2021-03-11T16:13:03.630136",
     "status": "completed"
    },
    "tags": []
   },
   "source": [
    "### Question: What are the 10 smallest countries by population in 2014?"
   ]
  },
  {
   "cell_type": "code",
   "execution_count": 14,
   "metadata": {
    "execution": {
     "iopub.execute_input": "2021-03-11T16:13:03.742508Z",
     "iopub.status.busy": "2021-03-11T16:13:03.741901Z",
     "iopub.status.idle": "2021-03-11T16:13:03.918427Z",
     "shell.execute_reply": "2021-03-11T16:13:03.917815Z"
    },
    "papermill": {
     "duration": 0.216698,
     "end_time": "2021-03-11T16:13:03.918562",
     "exception": false,
     "start_time": "2021-03-11T16:13:03.701864",
     "status": "completed"
    },
    "tags": []
   },
   "outputs": [
    {
     "data": {
      "text/html": [
       "<div>\n",
       "<style scoped>\n",
       "    .dataframe tbody tr th:only-of-type {\n",
       "        vertical-align: middle;\n",
       "    }\n",
       "\n",
       "    .dataframe tbody tr th {\n",
       "        vertical-align: top;\n",
       "    }\n",
       "\n",
       "    .dataframe thead th {\n",
       "        text-align: right;\n",
       "    }\n",
       "</style>\n",
       "<table border=\"1\" class=\"dataframe\">\n",
       "  <thead>\n",
       "    <tr style=\"text-align: right;\">\n",
       "      <th></th>\n",
       "      <th>CountryName</th>\n",
       "      <th>Population</th>\n",
       "      <th>Year</th>\n",
       "    </tr>\n",
       "  </thead>\n",
       "  <tbody>\n",
       "    <tr>\n",
       "      <th>0</th>\n",
       "      <td>Tuvalu</td>\n",
       "      <td>9893</td>\n",
       "      <td>2014</td>\n",
       "    </tr>\n",
       "    <tr>\n",
       "      <th>1</th>\n",
       "      <td>Palau</td>\n",
       "      <td>21097</td>\n",
       "      <td>2014</td>\n",
       "    </tr>\n",
       "    <tr>\n",
       "      <th>2</th>\n",
       "      <td>St. Martin (French part)</td>\n",
       "      <td>31530</td>\n",
       "      <td>2014</td>\n",
       "    </tr>\n",
       "    <tr>\n",
       "      <th>3</th>\n",
       "      <td>San Marino</td>\n",
       "      <td>31595</td>\n",
       "      <td>2014</td>\n",
       "    </tr>\n",
       "    <tr>\n",
       "      <th>4</th>\n",
       "      <td>Turks and Caicos Islands</td>\n",
       "      <td>33740</td>\n",
       "      <td>2014</td>\n",
       "    </tr>\n",
       "    <tr>\n",
       "      <th>5</th>\n",
       "      <td>Liechtenstein</td>\n",
       "      <td>37286</td>\n",
       "      <td>2014</td>\n",
       "    </tr>\n",
       "    <tr>\n",
       "      <th>6</th>\n",
       "      <td>Monaco</td>\n",
       "      <td>37623</td>\n",
       "      <td>2014</td>\n",
       "    </tr>\n",
       "    <tr>\n",
       "      <th>7</th>\n",
       "      <td>Sint Maarten (Dutch part)</td>\n",
       "      <td>37664</td>\n",
       "      <td>2014</td>\n",
       "    </tr>\n",
       "    <tr>\n",
       "      <th>8</th>\n",
       "      <td>Faeroe Islands</td>\n",
       "      <td>48221</td>\n",
       "      <td>2014</td>\n",
       "    </tr>\n",
       "    <tr>\n",
       "      <th>9</th>\n",
       "      <td>Marshall Islands</td>\n",
       "      <td>52898</td>\n",
       "      <td>2014</td>\n",
       "    </tr>\n",
       "  </tbody>\n",
       "</table>\n",
       "</div>"
      ],
      "text/plain": [
       "                 CountryName  Population  Year\n",
       "0                     Tuvalu        9893  2014\n",
       "1                      Palau       21097  2014\n",
       "2   St. Martin (French part)       31530  2014\n",
       "3                 San Marino       31595  2014\n",
       "4   Turks and Caicos Islands       33740  2014\n",
       "5              Liechtenstein       37286  2014\n",
       "6                     Monaco       37623  2014\n",
       "7  Sint Maarten (Dutch part)       37664  2014\n",
       "8             Faeroe Islands       48221  2014\n",
       "9           Marshall Islands       52898  2014"
      ]
     },
     "execution_count": 14,
     "metadata": {},
     "output_type": "execute_result"
    }
   ],
   "source": [
    "# Countries with the 10 smallest populations in 2014\n",
    "smallest_count = pd.read_sql(\"\"\"SELECT CountryName, Value AS Population, Year\n",
    "                           FROM Indicators\n",
    "                           WHERE IndicatorName = 'Population, total'\n",
    "                           AND Year = 2014\n",
    "                           ORDER BY Value ASC\n",
    "                           LIMIT 10;\"\"\",conn)\n",
    "smallest_count"
   ]
  },
  {
   "cell_type": "code",
   "execution_count": 15,
   "metadata": {
    "execution": {
     "iopub.execute_input": "2021-03-11T16:13:04.097840Z",
     "iopub.status.busy": "2021-03-11T16:13:04.095872Z",
     "iopub.status.idle": "2021-03-11T16:13:04.333844Z",
     "shell.execute_reply": "2021-03-11T16:13:04.333058Z"
    },
    "papermill": {
     "duration": 0.378885,
     "end_time": "2021-03-11T16:13:04.333998",
     "exception": false,
     "start_time": "2021-03-11T16:13:03.955113",
     "status": "completed"
    },
    "tags": []
   },
   "outputs": [
    {
     "data": {
      "image/png": "[encoded data removed]",
      "text/plain": [
       "<Figure size 864x576 with 1 Axes>"
      ]
     },
     "metadata": {},
     "output_type": "display_data"
    }
   ],
   "source": [
    "# Visualising countries with the 10 smallest populations in 2014\n",
    "sns.set_theme()\n",
    "fig, ax = plt.subplots(figsize=(12,8))\n",
    "colors = sns.color_palette('cubehelix',20)\n",
    "ax = sns.barplot(x=\"Population\", y=\"CountryName\", data=smallest_count, palette=colors)\n",
    "ax.set(xlabel='Poulation, total',ylabel=None)\n",
    "ax.set_title('Countries with the 10 smallest populations in 2014 in 2014', fontsize = 16)\n",
    "for ax in fig.axes:\n",
    "    for label in ax.get_yticklabels():\n",
    "        label.set_rotation(0)"
   ]
  },
  {
   "cell_type": "markdown",
   "metadata": {
    "papermill": {
     "duration": 0.03773,
     "end_time": "2021-03-11T16:13:04.410101",
     "exception": false,
     "start_time": "2021-03-11T16:13:04.372371",
     "status": "completed"
    },
    "tags": []
   },
   "source": [
    "### Question: What are the countries with the highest GDP per capita per year from 2000 to 2014?"
   ]
  },
  {
   "cell_type": "code",
   "execution_count": 16,
   "metadata": {
    "execution": {
     "iopub.execute_input": "2021-03-11T16:13:04.495203Z",
     "iopub.status.busy": "2021-03-11T16:13:04.494521Z",
     "iopub.status.idle": "2021-03-11T16:13:25.970701Z",
     "shell.execute_reply": "2021-03-11T16:13:25.971355Z"
    },
    "papermill": {
     "duration": 21.523187,
     "end_time": "2021-03-11T16:13:25.971526",
     "exception": false,
     "start_time": "2021-03-11T16:13:04.448339",
     "status": "completed"
    },
    "tags": []
   },
   "outputs": [
    {
     "data": {
      "text/html": [
       "<div>\n",
       "<style scoped>\n",
       "    .dataframe tbody tr th:only-of-type {\n",
       "        vertical-align: middle;\n",
       "    }\n",
       "\n",
       "    .dataframe tbody tr th {\n",
       "        vertical-align: top;\n",
       "    }\n",
       "\n",
       "    .dataframe thead th {\n",
       "        text-align: right;\n",
       "    }\n",
       "</style>\n",
       "<table border=\"1\" class=\"dataframe\">\n",
       "  <thead>\n",
       "    <tr style=\"text-align: right;\">\n",
       "      <th></th>\n",
       "      <th>CountryName</th>\n",
       "      <th>Year</th>\n",
       "      <th>GDP_per_capita</th>\n",
       "    </tr>\n",
       "  </thead>\n",
       "  <tbody>\n",
       "    <tr>\n",
       "      <th>0</th>\n",
       "      <td>Monaco</td>\n",
       "      <td>2000</td>\n",
       "      <td>82537.446469</td>\n",
       "    </tr>\n",
       "    <tr>\n",
       "      <th>1</th>\n",
       "      <td>Monaco</td>\n",
       "      <td>2001</td>\n",
       "      <td>82542.364441</td>\n",
       "    </tr>\n",
       "    <tr>\n",
       "      <th>2</th>\n",
       "      <td>Monaco</td>\n",
       "      <td>2002</td>\n",
       "      <td>89009.220233</td>\n",
       "    </tr>\n",
       "    <tr>\n",
       "      <th>3</th>\n",
       "      <td>Monaco</td>\n",
       "      <td>2003</td>\n",
       "      <td>108889.217254</td>\n",
       "    </tr>\n",
       "    <tr>\n",
       "      <th>4</th>\n",
       "      <td>Monaco</td>\n",
       "      <td>2004</td>\n",
       "      <td>123289.494121</td>\n",
       "    </tr>\n",
       "    <tr>\n",
       "      <th>...</th>\n",
       "      <td>...</td>\n",
       "      <td>...</td>\n",
       "      <td>...</td>\n",
       "    </tr>\n",
       "    <tr>\n",
       "      <th>10</th>\n",
       "      <td>Monaco</td>\n",
       "      <td>2010</td>\n",
       "      <td>145221.191568</td>\n",
       "    </tr>\n",
       "    <tr>\n",
       "      <th>11</th>\n",
       "      <td>Monaco</td>\n",
       "      <td>2011</td>\n",
       "      <td>163351.646686</td>\n",
       "    </tr>\n",
       "    <tr>\n",
       "      <th>12</th>\n",
       "      <td>Liechtenstein</td>\n",
       "      <td>2012</td>\n",
       "      <td>149160.758132</td>\n",
       "    </tr>\n",
       "    <tr>\n",
       "      <th>13</th>\n",
       "      <td>Luxembourg</td>\n",
       "      <td>2013</td>\n",
       "      <td>113726.638979</td>\n",
       "    </tr>\n",
       "    <tr>\n",
       "      <th>14</th>\n",
       "      <td>Luxembourg</td>\n",
       "      <td>2014</td>\n",
       "      <td>116664.262488</td>\n",
       "    </tr>\n",
       "  </tbody>\n",
       "</table>\n",
       "<p>15 rows × 3 columns</p>\n",
       "</div>"
      ],
      "text/plain": [
       "      CountryName  Year  GDP_per_capita\n",
       "0          Monaco  2000    82537.446469\n",
       "1          Monaco  2001    82542.364441\n",
       "2          Monaco  2002    89009.220233\n",
       "3          Monaco  2003   108889.217254\n",
       "4          Monaco  2004   123289.494121\n",
       "..            ...   ...             ...\n",
       "10         Monaco  2010   145221.191568\n",
       "11         Monaco  2011   163351.646686\n",
       "12  Liechtenstein  2012   149160.758132\n",
       "13     Luxembourg  2013   113726.638979\n",
       "14     Luxembourg  2014   116664.262488\n",
       "\n",
       "[15 rows x 3 columns]"
      ]
     },
     "execution_count": 16,
     "metadata": {},
     "output_type": "execute_result"
    }
   ],
   "source": [
    "# Country with the highest GDP per capita per year from 2000-2014\n",
    "highest_gdp_per_year = pd.read_sql(\"\"\"SELECT CountryName, Year, MAX (Value) AS GDP_per_capita\n",
    "                                       FROM Indicators\n",
    "                                       WHERE IndicatorName = 'GDP per capita (current US$)'\n",
    "                                       AND Year >= 2000\n",
    "                                       GROUP BY Year\n",
    "                                       ORDER BY Year;\"\"\",conn)\n",
    "highest_gdp_per_year"
   ]
  },
  {
   "cell_type": "markdown",
   "metadata": {
    "papermill": {
     "duration": 0.038349,
     "end_time": "2021-03-11T16:13:26.048721",
     "exception": false,
     "start_time": "2021-03-11T16:13:26.010372",
     "status": "completed"
    },
    "tags": []
   },
   "source": [
    "### Question: What are the countries with the 10 highest GDP per capita in 2014?"
   ]
  },
  {
   "cell_type": "code",
   "execution_count": 17,
   "metadata": {
    "execution": {
     "iopub.execute_input": "2021-03-11T16:13:26.130435Z",
     "iopub.status.busy": "2021-03-11T16:13:26.129426Z",
     "iopub.status.idle": "2021-03-11T16:13:26.342339Z",
     "shell.execute_reply": "2021-03-11T16:13:26.341754Z"
    },
    "papermill": {
     "duration": 0.25445,
     "end_time": "2021-03-11T16:13:26.342476",
     "exception": false,
     "start_time": "2021-03-11T16:13:26.088026",
     "status": "completed"
    },
    "tags": []
   },
   "outputs": [
    {
     "data": {
      "text/html": [
       "<div>\n",
       "<style scoped>\n",
       "    .dataframe tbody tr th:only-of-type {\n",
       "        vertical-align: middle;\n",
       "    }\n",
       "\n",
       "    .dataframe tbody tr th {\n",
       "        vertical-align: top;\n",
       "    }\n",
       "\n",
       "    .dataframe thead th {\n",
       "        text-align: right;\n",
       "    }\n",
       "</style>\n",
       "<table border=\"1\" class=\"dataframe\">\n",
       "  <thead>\n",
       "    <tr style=\"text-align: right;\">\n",
       "      <th></th>\n",
       "      <th>CountryName</th>\n",
       "      <th>GDP_per_capita</th>\n",
       "    </tr>\n",
       "  </thead>\n",
       "  <tbody>\n",
       "    <tr>\n",
       "      <th>0</th>\n",
       "      <td>Luxembourg</td>\n",
       "      <td>116664.262488</td>\n",
       "    </tr>\n",
       "    <tr>\n",
       "      <th>1</th>\n",
       "      <td>Norway</td>\n",
       "      <td>97307.421592</td>\n",
       "    </tr>\n",
       "    <tr>\n",
       "      <th>2</th>\n",
       "      <td>Qatar</td>\n",
       "      <td>96732.402545</td>\n",
       "    </tr>\n",
       "    <tr>\n",
       "      <th>3</th>\n",
       "      <td>Macao SAR, China</td>\n",
       "      <td>96038.050724</td>\n",
       "    </tr>\n",
       "    <tr>\n",
       "      <th>4</th>\n",
       "      <td>Switzerland</td>\n",
       "      <td>85594.326601</td>\n",
       "    </tr>\n",
       "    <tr>\n",
       "      <th>5</th>\n",
       "      <td>Australia</td>\n",
       "      <td>61925.496062</td>\n",
       "    </tr>\n",
       "    <tr>\n",
       "      <th>6</th>\n",
       "      <td>Denmark</td>\n",
       "      <td>60707.249365</td>\n",
       "    </tr>\n",
       "    <tr>\n",
       "      <th>7</th>\n",
       "      <td>Sweden</td>\n",
       "      <td>58938.772748</td>\n",
       "    </tr>\n",
       "    <tr>\n",
       "      <th>8</th>\n",
       "      <td>Singapore</td>\n",
       "      <td>56284.578405</td>\n",
       "    </tr>\n",
       "    <tr>\n",
       "      <th>9</th>\n",
       "      <td>United States</td>\n",
       "      <td>54629.495168</td>\n",
       "    </tr>\n",
       "  </tbody>\n",
       "</table>\n",
       "</div>"
      ],
      "text/plain": [
       "        CountryName  GDP_per_capita\n",
       "0        Luxembourg   116664.262488\n",
       "1            Norway    97307.421592\n",
       "2             Qatar    96732.402545\n",
       "3  Macao SAR, China    96038.050724\n",
       "4       Switzerland    85594.326601\n",
       "5         Australia    61925.496062\n",
       "6           Denmark    60707.249365\n",
       "7            Sweden    58938.772748\n",
       "8         Singapore    56284.578405\n",
       "9     United States    54629.495168"
      ]
     },
     "execution_count": 17,
     "metadata": {},
     "output_type": "execute_result"
    }
   ],
   "source": [
    "# Countries with 10 highest GDP per capita in 2014\n",
    "highest_gdp = pd.read_sql(\"\"\"SELECT CountryName, Value AS GDP_per_capita\n",
    "               FROM Indicators\n",
    "               WHERE IndicatorName='GDP per capita (current US$)'\n",
    "               AND Year= 2014\n",
    "               ORDER BY Value DESC\n",
    "               LIMIT 10;\"\"\",conn)\n",
    "highest_gdp"
   ]
  },
  {
   "cell_type": "code",
   "execution_count": 18,
   "metadata": {
    "execution": {
     "iopub.execute_input": "2021-03-11T16:13:26.447400Z",
     "iopub.status.busy": "2021-03-11T16:13:26.444748Z",
     "iopub.status.idle": "2021-03-11T16:13:26.694380Z",
     "shell.execute_reply": "2021-03-11T16:13:26.694924Z"
    },
    "papermill": {
     "duration": 0.313413,
     "end_time": "2021-03-11T16:13:26.695099",
     "exception": false,
     "start_time": "2021-03-11T16:13:26.381686",
     "status": "completed"
    },
    "tags": []
   },
   "outputs": [
    {
     "data": {
      "image/png": "[encoded data removed]",
      "text/plain": [
       "<Figure size 864x576 with 1 Axes>"
      ]
     },
     "metadata": {},
     "output_type": "display_data"
    }
   ],
   "source": [
    "# Visualising results\n",
    "sns.set_theme()\n",
    "fig, ax = plt.subplots(figsize=(12,8))\n",
    "colors = sns.color_palette('cubehelix',20)\n",
    "ax = sns.barplot(x=\"GDP_per_capita\", y=\"CountryName\", data=highest_gdp, palette=colors)\n",
    "ax.set(xlabel='GDP per capita (US$)',ylabel=None)\n",
    "ax.set_title('Countries with 10 highest GDP per capita in 2014', fontsize = 16)\n",
    "ax.set(xlim=(50000, 120000 ))\n",
    "for ax in fig.axes:\n",
    "    for label in ax.get_yticklabels():\n",
    "        label.set_rotation(0)"
   ]
  },
  {
   "cell_type": "markdown",
   "metadata": {
    "papermill": {
     "duration": 0.041176,
     "end_time": "2021-03-11T16:13:26.777733",
     "exception": false,
     "start_time": "2021-03-11T16:13:26.736557",
     "status": "completed"
    },
    "tags": []
   },
   "source": [
    "### Question: What indicators does the dataset have about different types of unemployment?"
   ]
  },
  {
   "cell_type": "code",
   "execution_count": 19,
   "metadata": {
    "execution": {
     "iopub.execute_input": "2021-03-11T16:13:26.865780Z",
     "iopub.status.busy": "2021-03-11T16:13:26.864862Z",
     "iopub.status.idle": "2021-03-11T16:13:30.837469Z",
     "shell.execute_reply": "2021-03-11T16:13:30.836884Z"
    },
    "papermill": {
     "duration": 4.019352,
     "end_time": "2021-03-11T16:13:30.837633",
     "exception": false,
     "start_time": "2021-03-11T16:13:26.818281",
     "status": "completed"
    },
    "tags": []
   },
   "outputs": [
    {
     "data": {
      "text/html": [
       "<div>\n",
       "<style scoped>\n",
       "    .dataframe tbody tr th:only-of-type {\n",
       "        vertical-align: middle;\n",
       "    }\n",
       "\n",
       "    .dataframe tbody tr th {\n",
       "        vertical-align: top;\n",
       "    }\n",
       "\n",
       "    .dataframe thead th {\n",
       "        text-align: right;\n",
       "    }\n",
       "</style>\n",
       "<table border=\"1\" class=\"dataframe\">\n",
       "  <thead>\n",
       "    <tr style=\"text-align: right;\">\n",
       "      <th></th>\n",
       "      <th>IndicatorName</th>\n",
       "    </tr>\n",
       "  </thead>\n",
       "  <tbody>\n",
       "    <tr>\n",
       "      <th>0</th>\n",
       "      <td>Adequacy of unemployment benefits and ALMP (% of total welfare of beneficiary households)</td>\n",
       "    </tr>\n",
       "    <tr>\n",
       "      <th>1</th>\n",
       "      <td>Long-term unemployment (% of total unemployment)</td>\n",
       "    </tr>\n",
       "    <tr>\n",
       "      <th>2</th>\n",
       "      <td>Long-term unemployment, female (% of female unemployment)</td>\n",
       "    </tr>\n",
       "    <tr>\n",
       "      <th>3</th>\n",
       "      <td>Long-term unemployment, male (% of male unemployment)</td>\n",
       "    </tr>\n",
       "    <tr>\n",
       "      <th>4</th>\n",
       "      <td>Unemployment with primary education (% of total unemployment)</td>\n",
       "    </tr>\n",
       "    <tr>\n",
       "      <th>...</th>\n",
       "      <td>...</td>\n",
       "    </tr>\n",
       "    <tr>\n",
       "      <th>20</th>\n",
       "      <td>Unemployment, youth female (% of female labor force ages 15-24) (national estimate)</td>\n",
       "    </tr>\n",
       "    <tr>\n",
       "      <th>21</th>\n",
       "      <td>Unemployment, youth male (% of male labor force ages 15-24) (modeled ILO estimate)</td>\n",
       "    </tr>\n",
       "    <tr>\n",
       "      <th>22</th>\n",
       "      <td>Unemployment, youth male (% of male labor force ages 15-24) (national estimate)</td>\n",
       "    </tr>\n",
       "    <tr>\n",
       "      <th>23</th>\n",
       "      <td>Unemployment, youth total (% of total labor force ages 15-24) (modeled ILO estimate)</td>\n",
       "    </tr>\n",
       "    <tr>\n",
       "      <th>24</th>\n",
       "      <td>Unemployment, youth total (% of total labor force ages 15-24) (national estimate)</td>\n",
       "    </tr>\n",
       "  </tbody>\n",
       "</table>\n",
       "<p>25 rows × 1 columns</p>\n",
       "</div>"
      ],
      "text/plain": [
       "                                                                                IndicatorName\n",
       "0   Adequacy of unemployment benefits and ALMP (% of total welfare of beneficiary households)\n",
       "1                                            Long-term unemployment (% of total unemployment)\n",
       "2                                   Long-term unemployment, female (% of female unemployment)\n",
       "3                                       Long-term unemployment, male (% of male unemployment)\n",
       "4                               Unemployment with primary education (% of total unemployment)\n",
       "..                                                                                        ...\n",
       "20        Unemployment, youth female (% of female labor force ages 15-24) (national estimate)\n",
       "21         Unemployment, youth male (% of male labor force ages 15-24) (modeled ILO estimate)\n",
       "22            Unemployment, youth male (% of male labor force ages 15-24) (national estimate)\n",
       "23       Unemployment, youth total (% of total labor force ages 15-24) (modeled ILO estimate)\n",
       "24          Unemployment, youth total (% of total labor force ages 15-24) (national estimate)\n",
       "\n",
       "[25 rows x 1 columns]"
      ]
     },
     "execution_count": 19,
     "metadata": {},
     "output_type": "execute_result"
    }
   ],
   "source": [
    "# Indicator names that include the word 'unemployment'\n",
    "pd.options.display.max_colwidth = 200\n",
    "pd.read_sql(\"\"\" SELECT IndicatorName\n",
    "                FROM Indicators\n",
    "                WHERE IndicatorName LIKE '%unemployment%'\n",
    "                GROUP BY IndicatorName;\"\"\", conn)"
   ]
  },
  {
   "cell_type": "markdown",
   "metadata": {
    "papermill": {
     "duration": 0.041053,
     "end_time": "2021-03-11T16:13:30.921315",
     "exception": false,
     "start_time": "2021-03-11T16:13:30.880262",
     "status": "completed"
    },
    "tags": []
   },
   "source": [
    "### Question: What are the countries with the 10 highest unemployment rates in 2014?"
   ]
  },
  {
   "cell_type": "code",
   "execution_count": 20,
   "metadata": {
    "execution": {
     "iopub.execute_input": "2021-03-11T16:13:31.009878Z",
     "iopub.status.busy": "2021-03-11T16:13:31.009250Z",
     "iopub.status.idle": "2021-03-11T16:13:31.238759Z",
     "shell.execute_reply": "2021-03-11T16:13:31.238225Z"
    },
    "papermill": {
     "duration": 0.27626,
     "end_time": "2021-03-11T16:13:31.238906",
     "exception": false,
     "start_time": "2021-03-11T16:13:30.962646",
     "status": "completed"
    },
    "tags": []
   },
   "outputs": [
    {
     "data": {
      "text/html": [
       "<div>\n",
       "<style scoped>\n",
       "    .dataframe tbody tr th:only-of-type {\n",
       "        vertical-align: middle;\n",
       "    }\n",
       "\n",
       "    .dataframe tbody tr th {\n",
       "        vertical-align: top;\n",
       "    }\n",
       "\n",
       "    .dataframe thead th {\n",
       "        text-align: right;\n",
       "    }\n",
       "</style>\n",
       "<table border=\"1\" class=\"dataframe\">\n",
       "  <thead>\n",
       "    <tr style=\"text-align: right;\">\n",
       "      <th></th>\n",
       "      <th>CountryName</th>\n",
       "      <th>Unemployment_rate</th>\n",
       "    </tr>\n",
       "  </thead>\n",
       "  <tbody>\n",
       "    <tr>\n",
       "      <th>0</th>\n",
       "      <td>Mauritania</td>\n",
       "      <td>31.000000</td>\n",
       "    </tr>\n",
       "    <tr>\n",
       "      <th>1</th>\n",
       "      <td>Bosnia and Herzegovina</td>\n",
       "      <td>27.900000</td>\n",
       "    </tr>\n",
       "    <tr>\n",
       "      <th>2</th>\n",
       "      <td>Macedonia, FYR</td>\n",
       "      <td>27.900000</td>\n",
       "    </tr>\n",
       "    <tr>\n",
       "      <th>3</th>\n",
       "      <td>Greece</td>\n",
       "      <td>26.299999</td>\n",
       "    </tr>\n",
       "    <tr>\n",
       "      <th>4</th>\n",
       "      <td>Lesotho</td>\n",
       "      <td>26.200001</td>\n",
       "    </tr>\n",
       "    <tr>\n",
       "      <th>5</th>\n",
       "      <td>West Bank and Gaza</td>\n",
       "      <td>26.200001</td>\n",
       "    </tr>\n",
       "    <tr>\n",
       "      <th>6</th>\n",
       "      <td>South Africa</td>\n",
       "      <td>25.100000</td>\n",
       "    </tr>\n",
       "    <tr>\n",
       "      <th>7</th>\n",
       "      <td>Spain</td>\n",
       "      <td>24.700001</td>\n",
       "    </tr>\n",
       "    <tr>\n",
       "      <th>8</th>\n",
       "      <td>Mozambique</td>\n",
       "      <td>22.600000</td>\n",
       "    </tr>\n",
       "    <tr>\n",
       "      <th>9</th>\n",
       "      <td>Swaziland</td>\n",
       "      <td>22.299999</td>\n",
       "    </tr>\n",
       "  </tbody>\n",
       "</table>\n",
       "</div>"
      ],
      "text/plain": [
       "              CountryName  Unemployment_rate\n",
       "0              Mauritania          31.000000\n",
       "1  Bosnia and Herzegovina          27.900000\n",
       "2          Macedonia, FYR          27.900000\n",
       "3                  Greece          26.299999\n",
       "4                 Lesotho          26.200001\n",
       "5      West Bank and Gaza          26.200001\n",
       "6            South Africa          25.100000\n",
       "7                   Spain          24.700001\n",
       "8              Mozambique          22.600000\n",
       "9               Swaziland          22.299999"
      ]
     },
     "execution_count": 20,
     "metadata": {},
     "output_type": "execute_result"
    }
   ],
   "source": [
    "pd.reset_option(\"max_colwidth\")\n",
    "\n",
    "# 10 countries with the highest unemployment (% of total labor force) in 2014\n",
    "high_unemp = pd.read_sql(\"\"\"SELECT CountryName, Value AS [Unemployment_rate]\n",
    "               FROM Indicators\n",
    "               WHERE IndicatorName= 'Unemployment, total (% of total labor force)'\n",
    "               AND Year= 2014\n",
    "               ORDER BY Value DESC\n",
    "               LIMIT 10;\"\"\",conn)\n",
    "high_unemp"
   ]
  },
  {
   "cell_type": "code",
   "execution_count": 21,
   "metadata": {
    "execution": {
     "iopub.execute_input": "2021-03-11T16:13:31.349626Z",
     "iopub.status.busy": "2021-03-11T16:13:31.332915Z",
     "iopub.status.idle": "2021-03-11T16:13:31.595074Z",
     "shell.execute_reply": "2021-03-11T16:13:31.594547Z"
    },
    "papermill": {
     "duration": 0.313346,
     "end_time": "2021-03-11T16:13:31.595216",
     "exception": false,
     "start_time": "2021-03-11T16:13:31.281870",
     "status": "completed"
    },
    "tags": []
   },
   "outputs": [
    {
     "data": {
      "image/png": "[encoded data removed]",
      "text/plain": [
       "<Figure size 864x576 with 1 Axes>"
      ]
     },
     "metadata": {},
     "output_type": "display_data"
    }
   ],
   "source": [
    "# Visualising results\n",
    "sns.set_theme()\n",
    "fig, ax = plt.subplots(figsize=(12,8))\n",
    "colors = sns.color_palette('cubehelix',16)\n",
    "ax = sns.barplot(x=\"Unemployment_rate\", y=\"CountryName\", data=high_unemp, palette=colors)\n",
    "ax.set(xlabel='Unemployment rate (% of total labor force)',ylabel=None)\n",
    "ax.set_title('10 Highest Unemployment Rates in the World in 2014', fontsize = 16)\n",
    "ax.set(xlim=(20, 32))\n",
    "for ax in fig.axes:\n",
    "    for label in ax.get_yticklabels():\n",
    "        label.set_rotation(0)"
   ]
  },
  {
   "cell_type": "markdown",
   "metadata": {
    "papermill": {
     "duration": 0.042799,
     "end_time": "2021-03-11T16:13:31.681957",
     "exception": false,
     "start_time": "2021-03-11T16:13:31.639158",
     "status": "completed"
    },
    "tags": []
   },
   "source": [
    "# Joining tables, CTEs, subqueries and aggregate functions"
   ]
  },
  {
   "cell_type": "markdown",
   "metadata": {
    "papermill": {
     "duration": 0.043014,
     "end_time": "2021-03-11T16:13:31.768280",
     "exception": false,
     "start_time": "2021-03-11T16:13:31.725266",
     "status": "completed"
    },
    "tags": []
   },
   "source": [
    "### Display long definitions of six CO2-related indicators"
   ]
  },
  {
   "cell_type": "code",
   "execution_count": 22,
   "metadata": {
    "execution": {
     "iopub.execute_input": "2021-03-11T16:13:31.861879Z",
     "iopub.status.busy": "2021-03-11T16:13:31.861255Z",
     "iopub.status.idle": "2021-03-11T16:13:32.007950Z",
     "shell.execute_reply": "2021-03-11T16:13:32.008409Z"
    },
    "papermill": {
     "duration": 0.196923,
     "end_time": "2021-03-11T16:13:32.008606",
     "exception": false,
     "start_time": "2021-03-11T16:13:31.811683",
     "status": "completed"
    },
    "tags": []
   },
   "outputs": [
    {
     "data": {
      "text/html": [
       "<div>\n",
       "<style scoped>\n",
       "    .dataframe tbody tr th:only-of-type {\n",
       "        vertical-align: middle;\n",
       "    }\n",
       "\n",
       "    .dataframe tbody tr th {\n",
       "        vertical-align: top;\n",
       "    }\n",
       "\n",
       "    .dataframe thead th {\n",
       "        text-align: right;\n",
       "    }\n",
       "</style>\n",
       "<table border=\"1\" class=\"dataframe\">\n",
       "  <thead>\n",
       "    <tr style=\"text-align: right;\">\n",
       "      <th></th>\n",
       "      <th>CountryName</th>\n",
       "      <th>IndicatorName</th>\n",
       "      <th>LongDefinition</th>\n",
       "      <th>Year</th>\n",
       "    </tr>\n",
       "  </thead>\n",
       "  <tbody>\n",
       "    <tr>\n",
       "      <th>0</th>\n",
       "      <td>World</td>\n",
       "      <td>CO2 emissions (kg per 2005 US$ of GDP)</td>\n",
       "      <td>Carbon dioxide emissions are those stemming from the burning of fossil fuels and the manufacture of cement. They include carbon dioxide produced during consumption of solid, liquid, and gas fuels and gas flaring.</td>\n",
       "      <td>2011</td>\n",
       "    </tr>\n",
       "    <tr>\n",
       "      <th>1</th>\n",
       "      <td>World</td>\n",
       "      <td>CO2 emissions (kg per 2011 PPP $ of GDP)</td>\n",
       "      <td>Carbon dioxide emissions are those stemming from the burning of fossil fuels and the manufacture of cement. They include carbon dioxide produced during consumption of solid, liquid, and gas fuels and gas flaring.</td>\n",
       "      <td>2011</td>\n",
       "    </tr>\n",
       "    <tr>\n",
       "      <th>2</th>\n",
       "      <td>World</td>\n",
       "      <td>CO2 emissions (kg per PPP $ of GDP)</td>\n",
       "      <td>Carbon dioxide emissions are those stemming from the burning of fossil fuels and the manufacture of cement. They include carbon dioxide produced during consumption of solid, liquid, and gas fuels and gas flaring.</td>\n",
       "      <td>2011</td>\n",
       "    </tr>\n",
       "    <tr>\n",
       "      <th>3</th>\n",
       "      <td>World</td>\n",
       "      <td>CO2 emissions (kt)</td>\n",
       "      <td>Carbon dioxide emissions are those stemming from the burning of fossil fuels and the manufacture of cement. They include carbon dioxide produced during consumption of solid, liquid, and gas fuels and gas flaring.</td>\n",
       "      <td>2011</td>\n",
       "    </tr>\n",
       "    <tr>\n",
       "      <th>4</th>\n",
       "      <td>World</td>\n",
       "      <td>CO2 emissions (metric tons per capita)</td>\n",
       "      <td>Carbon dioxide emissions are those stemming from the burning of fossil fuels and the manufacture of cement. They include carbon dioxide produced during consumption of solid, liquid, and gas fuels and gas flaring.</td>\n",
       "      <td>2011</td>\n",
       "    </tr>\n",
       "    <tr>\n",
       "      <th>5</th>\n",
       "      <td>World</td>\n",
       "      <td>CO2 emissions from electricity and heat production, total (% of total fuel combustion)</td>\n",
       "      <td>CO2 emissions from electricity and heat production is the sum of three IEA categories of CO2 emissions: (1) Main Activity Producer Electricity and Heat which contains the sum of emissions from main activity producer electricity generation, combined heat and power generation and heat plants. Main activity producers  (formerly known as public utilities) are defined as those undertakings whose primary activity is to supply the public. They may be publicly or privately owned. This corresponds to IPCC Source/Sink Category 1 A 1 a. For the CO2 emissions from fuel combustion (summary) file, emiss...</td>\n",
       "      <td>2011</td>\n",
       "    </tr>\n",
       "  </tbody>\n",
       "</table>\n",
       "</div>"
      ],
      "text/plain": [
       "  CountryName  \\\n",
       "0       World   \n",
       "1       World   \n",
       "2       World   \n",
       "3       World   \n",
       "4       World   \n",
       "5       World   \n",
       "\n",
       "                                                                            IndicatorName  \\\n",
       "0                                                  CO2 emissions (kg per 2005 US$ of GDP)   \n",
       "1                                                CO2 emissions (kg per 2011 PPP $ of GDP)   \n",
       "2                                                     CO2 emissions (kg per PPP $ of GDP)   \n",
       "3                                                                      CO2 emissions (kt)   \n",
       "4                                                  CO2 emissions (metric tons per capita)   \n",
       "5  CO2 emissions from electricity and heat production, total (% of total fuel combustion)   \n",
       "\n",
       "                                                                                                                                                                                                                                                                                                                                                                                                                                                                                                                                                                                                            LongDefinition  \\\n",
       "0                                                                                                                                                                                                                                                                                                                                                                                                     Carbon dioxide emissions are those stemming from the burning of fossil fuels and the manufacture of cement. They include carbon dioxide produced during consumption of solid, liquid, and gas fuels and gas flaring.   \n",
       "1                                                                                                                                                                                                                                                                                                                                                                                                     Carbon dioxide emissions are those stemming from the burning of fossil fuels and the manufacture of cement. They include carbon dioxide produced during consumption of solid, liquid, and gas fuels and gas flaring.   \n",
       "2                                                                                                                                                                                                                                                                                                                                                                                                     Carbon dioxide emissions are those stemming from the burning of fossil fuels and the manufacture of cement. They include carbon dioxide produced during consumption of solid, liquid, and gas fuels and gas flaring.   \n",
       "3                                                                                                                                                                                                                                                                                                                                                                                                     Carbon dioxide emissions are those stemming from the burning of fossil fuels and the manufacture of cement. They include carbon dioxide produced during consumption of solid, liquid, and gas fuels and gas flaring.   \n",
       "4                                                                                                                                                                                                                                                                                                                                                                                                     Carbon dioxide emissions are those stemming from the burning of fossil fuels and the manufacture of cement. They include carbon dioxide produced during consumption of solid, liquid, and gas fuels and gas flaring.   \n",
       "5  CO2 emissions from electricity and heat production is the sum of three IEA categories of CO2 emissions: (1) Main Activity Producer Electricity and Heat which contains the sum of emissions from main activity producer electricity generation, combined heat and power generation and heat plants. Main activity producers  (formerly known as public utilities) are defined as those undertakings whose primary activity is to supply the public. They may be publicly or privately owned. This corresponds to IPCC Source/Sink Category 1 A 1 a. For the CO2 emissions from fuel combustion (summary) file, emiss...   \n",
       "\n",
       "   Year  \n",
       "0  2011  \n",
       "1  2011  \n",
       "2  2011  \n",
       "3  2011  \n",
       "4  2011  \n",
       "5  2011  "
      ]
     },
     "execution_count": 22,
     "metadata": {},
     "output_type": "execute_result"
    }
   ],
   "source": [
    "# 6 types of CO2 emission exapmles with their long definitions from the Series table\n",
    "pd.options.display.max_colwidth = 600\n",
    "pd.read_sql(\"\"\" SELECT i.CountryName, i.IndicatorName, s.LongDefinition, i.Year\n",
    "                FROM Indicators i\n",
    "                LEFT JOIN Series s\n",
    "                USING (IndicatorName)\n",
    "                WHERE i.IndicatorName LIKE 'CO2 emissions%'\n",
    "                AND CountryName = 'World' AND Year = 2011\n",
    "                LIMIT 6;\"\"\",conn)"
   ]
  },
  {
   "cell_type": "markdown",
   "metadata": {
    "papermill": {
     "duration": 0.044368,
     "end_time": "2021-03-11T16:13:32.097232",
     "exception": false,
     "start_time": "2021-03-11T16:13:32.052864",
     "status": "completed"
    },
    "tags": []
   },
   "source": [
    "### What is the level of central government debt of European Union member states in 2012?"
   ]
  },
  {
   "cell_type": "code",
   "execution_count": 23,
   "metadata": {
    "execution": {
     "iopub.execute_input": "2021-03-11T16:13:32.188401Z",
     "iopub.status.busy": "2021-03-11T16:13:32.187744Z",
     "iopub.status.idle": "2021-03-11T16:13:32.490357Z",
     "shell.execute_reply": "2021-03-11T16:13:32.489840Z"
    },
    "papermill": {
     "duration": 0.349659,
     "end_time": "2021-03-11T16:13:32.490728",
     "exception": false,
     "start_time": "2021-03-11T16:13:32.141069",
     "status": "completed"
    },
    "tags": []
   },
   "outputs": [
    {
     "data": {
      "text/html": [
       "<div>\n",
       "<style scoped>\n",
       "    .dataframe tbody tr th:only-of-type {\n",
       "        vertical-align: middle;\n",
       "    }\n",
       "\n",
       "    .dataframe tbody tr th {\n",
       "        vertical-align: top;\n",
       "    }\n",
       "\n",
       "    .dataframe thead th {\n",
       "        text-align: right;\n",
       "    }\n",
       "</style>\n",
       "<table border=\"1\" class=\"dataframe\">\n",
       "  <thead>\n",
       "    <tr style=\"text-align: right;\">\n",
       "      <th></th>\n",
       "      <th>CountryName</th>\n",
       "      <th>IndicatorName</th>\n",
       "      <th>Year</th>\n",
       "      <th>Debt</th>\n",
       "    </tr>\n",
       "  </thead>\n",
       "  <tbody>\n",
       "    <tr>\n",
       "      <th>0</th>\n",
       "      <td>Estonia</td>\n",
       "      <td>Central government debt, total (% of GDP)</td>\n",
       "      <td>2012</td>\n",
       "      <td>10.147712</td>\n",
       "    </tr>\n",
       "    <tr>\n",
       "      <th>1</th>\n",
       "      <td>Bulgaria</td>\n",
       "      <td>Central government debt, total (% of GDP)</td>\n",
       "      <td>2012</td>\n",
       "      <td>17.202115</td>\n",
       "    </tr>\n",
       "    <tr>\n",
       "      <th>2</th>\n",
       "      <td>Luxembourg</td>\n",
       "      <td>Central government debt, total (% of GDP)</td>\n",
       "      <td>2012</td>\n",
       "      <td>20.146620</td>\n",
       "    </tr>\n",
       "    <tr>\n",
       "      <th>3</th>\n",
       "      <td>Latvia</td>\n",
       "      <td>Central government debt, total (% of GDP)</td>\n",
       "      <td>2012</td>\n",
       "      <td>29.232807</td>\n",
       "    </tr>\n",
       "    <tr>\n",
       "      <th>4</th>\n",
       "      <td>Sweden</td>\n",
       "      <td>Central government debt, total (% of GDP)</td>\n",
       "      <td>2012</td>\n",
       "      <td>35.289758</td>\n",
       "    </tr>\n",
       "    <tr>\n",
       "      <th>...</th>\n",
       "      <td>...</td>\n",
       "      <td>...</td>\n",
       "      <td>...</td>\n",
       "      <td>...</td>\n",
       "    </tr>\n",
       "    <tr>\n",
       "      <th>16</th>\n",
       "      <td>Ireland</td>\n",
       "      <td>Central government debt, total (% of GDP)</td>\n",
       "      <td>2012</td>\n",
       "      <td>119.017772</td>\n",
       "    </tr>\n",
       "    <tr>\n",
       "      <th>17</th>\n",
       "      <td>Portugal</td>\n",
       "      <td>Central government debt, total (% of GDP)</td>\n",
       "      <td>2012</td>\n",
       "      <td>123.689265</td>\n",
       "    </tr>\n",
       "    <tr>\n",
       "      <th>18</th>\n",
       "      <td>Italy</td>\n",
       "      <td>Central government debt, total (% of GDP)</td>\n",
       "      <td>2012</td>\n",
       "      <td>127.206046</td>\n",
       "    </tr>\n",
       "    <tr>\n",
       "      <th>19</th>\n",
       "      <td>Greece</td>\n",
       "      <td>Central government debt, total (% of GDP)</td>\n",
       "      <td>2012</td>\n",
       "      <td>166.123768</td>\n",
       "    </tr>\n",
       "    <tr>\n",
       "      <th>20</th>\n",
       "      <td>Lithuania</td>\n",
       "      <td>Central government debt, total (% of GDP)</td>\n",
       "      <td>2012</td>\n",
       "      <td>168.657434</td>\n",
       "    </tr>\n",
       "  </tbody>\n",
       "</table>\n",
       "<p>21 rows × 4 columns</p>\n",
       "</div>"
      ],
      "text/plain": [
       "   CountryName                              IndicatorName  Year        Debt\n",
       "0      Estonia  Central government debt, total (% of GDP)  2012   10.147712\n",
       "1     Bulgaria  Central government debt, total (% of GDP)  2012   17.202115\n",
       "2   Luxembourg  Central government debt, total (% of GDP)  2012   20.146620\n",
       "3       Latvia  Central government debt, total (% of GDP)  2012   29.232807\n",
       "4       Sweden  Central government debt, total (% of GDP)  2012   35.289758\n",
       "..         ...                                        ...   ...         ...\n",
       "16     Ireland  Central government debt, total (% of GDP)  2012  119.017772\n",
       "17    Portugal  Central government debt, total (% of GDP)  2012  123.689265\n",
       "18       Italy  Central government debt, total (% of GDP)  2012  127.206046\n",
       "19      Greece  Central government debt, total (% of GDP)  2012  166.123768\n",
       "20   Lithuania  Central government debt, total (% of GDP)  2012  168.657434\n",
       "\n",
       "[21 rows x 4 columns]"
      ]
     },
     "execution_count": 23,
     "metadata": {},
     "output_type": "execute_result"
    }
   ],
   "source": [
    "# Level of central government debt of European Union member states in 2012 (the data on some EU countries is not included in the dataset)\n",
    "\n",
    "eu_debt = pd.read_sql(\"\"\" SELECT CountryName, IndicatorName, Year, Value AS Debt\n",
    "                FROM Indicators\n",
    "                WHERE IndicatorName = 'Central government debt, total (% of GDP)'\n",
    "                AND CountryName IN (\"Austria\", \"Belgium\", \"Bulgaria\", \"Croatia\", \"Republic of Cyprus\", \"Czech Republic\", \\\n",
    "                    \"Denmark\", \"Estonia\", \"Finland\", \"France\", \"Germany\", \"Greece\", \"Hungary\", \"Ireland\", \"Italy\", \"Latvia\", \"Lithuania\",\\\n",
    "                    \"Luxembourg\", \"Malta\", \"Netherlands\", \"Poland\", \"Portugal\", \"Romania\", \"Slovakia\", \"Slovenia\", \"Spain\", \"Sweden\")\n",
    "                AND Year = 2012\n",
    "                ORDER BY 4 ASC;\"\"\",conn)\n",
    "eu_debt"
   ]
  },
  {
   "cell_type": "code",
   "execution_count": 24,
   "metadata": {
    "execution": {
     "iopub.execute_input": "2021-03-11T16:13:32.606607Z",
     "iopub.status.busy": "2021-03-11T16:13:32.605959Z",
     "iopub.status.idle": "2021-03-11T16:13:33.129499Z",
     "shell.execute_reply": "2021-03-11T16:13:33.129958Z"
    },
    "papermill": {
     "duration": 0.593436,
     "end_time": "2021-03-11T16:13:33.130126",
     "exception": false,
     "start_time": "2021-03-11T16:13:32.536690",
     "status": "completed"
    },
    "tags": []
   },
   "outputs": [
    {
     "data": {
      "image/png": "[encoded data removed]",
      "text/plain": [
       "<Figure size 1152x432 with 1 Axes>"
      ]
     },
     "metadata": {},
     "output_type": "display_data"
    }
   ],
   "source": [
    "# Visualizing debt of EU member states\n",
    "fig, ax = plt.subplots(figsize=(16,6))\n",
    "colors = sns.color_palette('cubehelix_r',24)\n",
    "ax = sns.barplot(x=\"CountryName\", y=\"Debt\", data=eu_debt, palette=colors)\n",
    "# ax.set_xticklabels(ax.get_xticklabels(),rotation=-90)\n",
    "ax.set(ylabel='Central government debt, total (% of GDP)',xlabel=None)\n",
    "ax.set_title('Debt of European Union Member States in 2012', fontsize = 16)\n",
    "for ax in fig.axes:\n",
    "    for label in ax.get_xticklabels():\n",
    "        label.set_rotation(-90)\n",
    "for p in ax.patches: # displaying percentages\n",
    "    height = p.get_height()\n",
    "    ax.text(p.get_x()+p.get_width()/2., height+1, '{:.0f}%'.format(height), horizontalalignment='center', fontsize=12) \n",
    "      "
   ]
  },
  {
   "cell_type": "markdown",
   "metadata": {
    "papermill": {
     "duration": 0.046223,
     "end_time": "2021-03-11T16:13:33.222766",
     "exception": false,
     "start_time": "2021-03-11T16:13:33.176543",
     "status": "completed"
    },
    "tags": []
   },
   "source": [
    "### Question: What is the individual level and the average level of CO2 emissions per capita by European and Central Asian countries?"
   ]
  },
  {
   "cell_type": "code",
   "execution_count": 25,
   "metadata": {
    "execution": {
     "iopub.execute_input": "2021-03-11T16:13:33.318543Z",
     "iopub.status.busy": "2021-03-11T16:13:33.317953Z",
     "iopub.status.idle": "2021-03-11T16:13:43.879505Z",
     "shell.execute_reply": "2021-03-11T16:13:43.878192Z"
    },
    "papermill": {
     "duration": 10.610736,
     "end_time": "2021-03-11T16:13:43.879751",
     "exception": false,
     "start_time": "2021-03-11T16:13:33.269015",
     "status": "completed"
    },
    "tags": []
   },
   "outputs": [
    {
     "data": {
      "text/html": [
       "<div>\n",
       "<style scoped>\n",
       "    .dataframe tbody tr th:only-of-type {\n",
       "        vertical-align: middle;\n",
       "    }\n",
       "\n",
       "    .dataframe tbody tr th {\n",
       "        vertical-align: top;\n",
       "    }\n",
       "\n",
       "    .dataframe thead th {\n",
       "        text-align: right;\n",
       "    }\n",
       "</style>\n",
       "<table border=\"1\" class=\"dataframe\">\n",
       "  <thead>\n",
       "    <tr style=\"text-align: right;\">\n",
       "      <th></th>\n",
       "      <th>CountryName</th>\n",
       "      <th>CO2</th>\n",
       "      <th>Average_CO2</th>\n",
       "      <th>Is_over_avg</th>\n",
       "    </tr>\n",
       "  </thead>\n",
       "  <tbody>\n",
       "    <tr>\n",
       "      <th>0</th>\n",
       "      <td>Tajikistan</td>\n",
       "      <td>0.358948</td>\n",
       "      <td>6.790888</td>\n",
       "      <td>No</td>\n",
       "    </tr>\n",
       "    <tr>\n",
       "      <th>1</th>\n",
       "      <td>Kyrgyz Republic</td>\n",
       "      <td>1.199592</td>\n",
       "      <td>6.790888</td>\n",
       "      <td>No</td>\n",
       "    </tr>\n",
       "    <tr>\n",
       "      <th>2</th>\n",
       "      <td>Moldova</td>\n",
       "      <td>1.398822</td>\n",
       "      <td>6.790888</td>\n",
       "      <td>No</td>\n",
       "    </tr>\n",
       "    <tr>\n",
       "      <th>3</th>\n",
       "      <td>Liechtenstein</td>\n",
       "      <td>1.405096</td>\n",
       "      <td>6.790888</td>\n",
       "      <td>No</td>\n",
       "    </tr>\n",
       "    <tr>\n",
       "      <th>4</th>\n",
       "      <td>Albania</td>\n",
       "      <td>1.607038</td>\n",
       "      <td>6.790888</td>\n",
       "      <td>No</td>\n",
       "    </tr>\n",
       "    <tr>\n",
       "      <th>...</th>\n",
       "      <td>...</td>\n",
       "      <td>...</td>\n",
       "      <td>...</td>\n",
       "      <td>...</td>\n",
       "    </tr>\n",
       "    <tr>\n",
       "      <th>47</th>\n",
       "      <td>Greenland</td>\n",
       "      <td>12.440341</td>\n",
       "      <td>6.790888</td>\n",
       "      <td>Yes</td>\n",
       "    </tr>\n",
       "    <tr>\n",
       "      <th>48</th>\n",
       "      <td>Russian Federation</td>\n",
       "      <td>12.647328</td>\n",
       "      <td>6.790888</td>\n",
       "      <td>Yes</td>\n",
       "    </tr>\n",
       "    <tr>\n",
       "      <th>49</th>\n",
       "      <td>Estonia</td>\n",
       "      <td>14.049883</td>\n",
       "      <td>6.790888</td>\n",
       "      <td>Yes</td>\n",
       "    </tr>\n",
       "    <tr>\n",
       "      <th>50</th>\n",
       "      <td>Kazakhstan</td>\n",
       "      <td>15.810098</td>\n",
       "      <td>6.790888</td>\n",
       "      <td>Yes</td>\n",
       "    </tr>\n",
       "    <tr>\n",
       "      <th>51</th>\n",
       "      <td>Luxembourg</td>\n",
       "      <td>20.897812</td>\n",
       "      <td>6.790888</td>\n",
       "      <td>Yes</td>\n",
       "    </tr>\n",
       "  </tbody>\n",
       "</table>\n",
       "<p>52 rows × 4 columns</p>\n",
       "</div>"
      ],
      "text/plain": [
       "           CountryName        CO2  Average_CO2 Is_over_avg\n",
       "0           Tajikistan   0.358948     6.790888          No\n",
       "1      Kyrgyz Republic   1.199592     6.790888          No\n",
       "2              Moldova   1.398822     6.790888          No\n",
       "3        Liechtenstein   1.405096     6.790888          No\n",
       "4              Albania   1.607038     6.790888          No\n",
       "..                 ...        ...          ...         ...\n",
       "47           Greenland  12.440341     6.790888         Yes\n",
       "48  Russian Federation  12.647328     6.790888         Yes\n",
       "49             Estonia  14.049883     6.790888         Yes\n",
       "50          Kazakhstan  15.810098     6.790888         Yes\n",
       "51          Luxembourg  20.897812     6.790888         Yes\n",
       "\n",
       "[52 rows x 4 columns]"
      ]
     },
     "execution_count": 25,
     "metadata": {},
     "output_type": "execute_result"
    }
   ],
   "source": [
    "# European and Central Asian countries' level of CO2 emission per capita and their average CO2 emission\n",
    "eu_central_asia_co2 = pd.read_sql(\"\"\" WITH co2_levels AS (\n",
    "                                        SELECT i.CountryName, i.Value AS CO2\n",
    "                                        FROM Indicators i\n",
    "                                        LEFT JOIN Country c\n",
    "                                        ON i.CountryCode = c.CountryCode\n",
    "                                        WHERE c.Region = 'Europe & Central Asia'\n",
    "                                        AND i.IndicatorName = 'CO2 emissions (metric tons per capita)'\n",
    "                                        AND i.Year = 2011\n",
    "                                        ORDER BY 2),\n",
    "\n",
    "                                        avg_level AS (             \n",
    "                                        SELECT AVG(CO2) AS Average_CO2\n",
    "                                        FROM co2_levels)\n",
    "\n",
    "                                      SELECT c.CountryName, c.CO2, Average_CO2, \n",
    "                                      CASE\n",
    "                                          WHEN c.CO2 > a.Average_CO2 THEN 'Yes'\n",
    "                                          WHEN c.CO2 < a.Average_CO2 THEN 'No'\n",
    "                                          WHEN c.CO2 = a.Average_CO2 THEN 'Average'\n",
    "                                      END AS Is_over_avg\n",
    "                                      FROM co2_levels c, avg_level a;\"\"\",conn)\n",
    "eu_central_asia_co2"
   ]
  },
  {
   "cell_type": "code",
   "execution_count": 26,
   "metadata": {
    "execution": {
     "iopub.execute_input": "2021-03-11T16:13:44.022336Z",
     "iopub.status.busy": "2021-03-11T16:13:44.021315Z",
     "iopub.status.idle": "2021-03-11T16:13:46.562097Z",
     "shell.execute_reply": "2021-03-11T16:13:46.561541Z"
    },
    "papermill": {
     "duration": 2.626507,
     "end_time": "2021-03-11T16:13:46.562233",
     "exception": false,
     "start_time": "2021-03-11T16:13:43.935726",
     "status": "completed"
    },
    "tags": []
   },
   "outputs": [
    {
     "data": {
      "image/png": "[encoded data removed]",
      "text/plain": [
       "<Figure size 1440x864 with 1 Axes>"
      ]
     },
     "metadata": {},
     "output_type": "display_data"
    }
   ],
   "source": [
    "sns.set_theme()\n",
    "fig, ax = plt.subplots(figsize=(20,12))\n",
    "colors = sns.color_palette('cubehelix_r',60)\n",
    "ax = sns.barplot(x=\"CountryName\", y=\"CO2\", data=eu_central_asia_co2,palette=colors)\n",
    "ax = sns.lineplot(x=\"CountryName\", y=\"Average_CO2\", data=eu_central_asia_co2, label = 'Average CO2 level',color='red')\n",
    "ax.set_xticklabels(ax.get_xticklabels(),rotation=-90)\n",
    "ax.set(ylabel='CO2 Emissions (Metric Tons Per Capita)',xlabel=None)\n",
    "ax.legend(fontsize='large')\n",
    "ax.set_title('CO2 emissions per capita in Europe and Central Asia in 2011', fontsize = 16)\n",
    "for ax in fig.axes:\n",
    "    for label in ax.get_xticklabels():\n",
    "        label.set_rotation(-90)\n"
   ]
  },
  {
   "cell_type": "markdown",
   "metadata": {
    "papermill": {
     "duration": 0.049513,
     "end_time": "2021-03-11T16:13:46.661479",
     "exception": false,
     "start_time": "2021-03-11T16:13:46.611966",
     "status": "completed"
    },
    "tags": []
   },
   "source": [
    "#### Question: Which countries are above the average CO2 emission in Europe and Central Asia?"
   ]
  },
  {
   "cell_type": "code",
   "execution_count": 27,
   "metadata": {
    "execution": {
     "iopub.execute_input": "2021-03-11T16:13:46.766198Z",
     "iopub.status.busy": "2021-03-11T16:13:46.765335Z",
     "iopub.status.idle": "2021-03-11T16:13:56.927052Z",
     "shell.execute_reply": "2021-03-11T16:13:56.926440Z"
    },
    "papermill": {
     "duration": 10.216175,
     "end_time": "2021-03-11T16:13:56.927229",
     "exception": false,
     "start_time": "2021-03-11T16:13:46.711054",
     "status": "completed"
    },
    "tags": []
   },
   "outputs": [
    {
     "data": {
      "text/html": [
       "<div>\n",
       "<style scoped>\n",
       "    .dataframe tbody tr th:only-of-type {\n",
       "        vertical-align: middle;\n",
       "    }\n",
       "\n",
       "    .dataframe tbody tr th {\n",
       "        vertical-align: top;\n",
       "    }\n",
       "\n",
       "    .dataframe thead th {\n",
       "        text-align: right;\n",
       "    }\n",
       "</style>\n",
       "<table border=\"1\" class=\"dataframe\">\n",
       "  <thead>\n",
       "    <tr style=\"text-align: right;\">\n",
       "      <th></th>\n",
       "      <th>CountryName</th>\n",
       "      <th>CO2</th>\n",
       "    </tr>\n",
       "  </thead>\n",
       "  <tbody>\n",
       "    <tr>\n",
       "      <th>0</th>\n",
       "      <td>Serbia</td>\n",
       "      <td>6.799115</td>\n",
       "    </tr>\n",
       "    <tr>\n",
       "      <th>1</th>\n",
       "      <td>United Kingdom</td>\n",
       "      <td>7.085732</td>\n",
       "    </tr>\n",
       "    <tr>\n",
       "      <th>2</th>\n",
       "      <td>Denmark</td>\n",
       "      <td>7.248329</td>\n",
       "    </tr>\n",
       "    <tr>\n",
       "      <th>3</th>\n",
       "      <td>Slovenia</td>\n",
       "      <td>7.504260</td>\n",
       "    </tr>\n",
       "    <tr>\n",
       "      <th>4</th>\n",
       "      <td>Greece</td>\n",
       "      <td>7.556058</td>\n",
       "    </tr>\n",
       "    <tr>\n",
       "      <th>...</th>\n",
       "      <td>...</td>\n",
       "      <td>...</td>\n",
       "    </tr>\n",
       "    <tr>\n",
       "      <th>16</th>\n",
       "      <td>Greenland</td>\n",
       "      <td>12.440341</td>\n",
       "    </tr>\n",
       "    <tr>\n",
       "      <th>17</th>\n",
       "      <td>Russian Federation</td>\n",
       "      <td>12.647328</td>\n",
       "    </tr>\n",
       "    <tr>\n",
       "      <th>18</th>\n",
       "      <td>Estonia</td>\n",
       "      <td>14.049883</td>\n",
       "    </tr>\n",
       "    <tr>\n",
       "      <th>19</th>\n",
       "      <td>Kazakhstan</td>\n",
       "      <td>15.810098</td>\n",
       "    </tr>\n",
       "    <tr>\n",
       "      <th>20</th>\n",
       "      <td>Luxembourg</td>\n",
       "      <td>20.897812</td>\n",
       "    </tr>\n",
       "  </tbody>\n",
       "</table>\n",
       "<p>21 rows × 2 columns</p>\n",
       "</div>"
      ],
      "text/plain": [
       "           CountryName        CO2\n",
       "0               Serbia   6.799115\n",
       "1       United Kingdom   7.085732\n",
       "2              Denmark   7.248329\n",
       "3             Slovenia   7.504260\n",
       "4               Greece   7.556058\n",
       "..                 ...        ...\n",
       "16           Greenland  12.440341\n",
       "17  Russian Federation  12.647328\n",
       "18             Estonia  14.049883\n",
       "19          Kazakhstan  15.810098\n",
       "20          Luxembourg  20.897812\n",
       "\n",
       "[21 rows x 2 columns]"
      ]
     },
     "execution_count": 27,
     "metadata": {},
     "output_type": "execute_result"
    }
   ],
   "source": [
    "# European and Central Asian countries above average CO2 level in 2011 using CTEs (Common Table Expression)\n",
    "\n",
    "pd.read_sql(\"\"\" WITH cte_co2_levels AS (\n",
    "                    SELECT i.CountryName, i.Value AS CO2\n",
    "                    FROM Indicators i\n",
    "                    LEFT JOIN Country c\n",
    "                    ON i.CountryCode = c.CountryCode\n",
    "                    WHERE c.Region = 'Europe & Central Asia'\n",
    "                    AND i.IndicatorName = 'CO2 emissions (metric tons per capita)'\n",
    "                    AND i.Year = 2011\n",
    "                    ORDER BY 2),\n",
    "\n",
    "                    cte_avg_level AS (             \n",
    "                    SELECT AVG(CO2) AS Average_CO2\n",
    "                    FROM cte_co2_levels)\n",
    "\n",
    "                 SELECT c.CountryName, c.CO2\n",
    "                 FROM cte_co2_levels c, cte_avg_level a\n",
    "                 WHERE c.CO2 > a.Average_CO2;\"\"\",conn)"
   ]
  },
  {
   "cell_type": "markdown",
   "metadata": {
    "papermill": {
     "duration": 0.053654,
     "end_time": "2021-03-11T16:13:57.032578",
     "exception": false,
     "start_time": "2021-03-11T16:13:56.978924",
     "status": "completed"
    },
    "tags": []
   },
   "source": [
    "### Question: What is the number of different indicators per year for Germany?"
   ]
  },
  {
   "cell_type": "code",
   "execution_count": 28,
   "metadata": {
    "execution": {
     "iopub.execute_input": "2021-03-11T16:13:57.138782Z",
     "iopub.status.busy": "2021-03-11T16:13:57.138069Z",
     "iopub.status.idle": "2021-03-11T16:13:57.612288Z",
     "shell.execute_reply": "2021-03-11T16:13:57.612745Z"
    },
    "papermill": {
     "duration": 0.529434,
     "end_time": "2021-03-11T16:13:57.612921",
     "exception": false,
     "start_time": "2021-03-11T16:13:57.083487",
     "status": "completed"
    },
    "tags": []
   },
   "outputs": [
    {
     "data": {
      "text/html": [
       "<div>\n",
       "<style scoped>\n",
       "    .dataframe tbody tr th:only-of-type {\n",
       "        vertical-align: middle;\n",
       "    }\n",
       "\n",
       "    .dataframe tbody tr th {\n",
       "        vertical-align: top;\n",
       "    }\n",
       "\n",
       "    .dataframe thead th {\n",
       "        text-align: right;\n",
       "    }\n",
       "</style>\n",
       "<table border=\"1\" class=\"dataframe\">\n",
       "  <thead>\n",
       "    <tr style=\"text-align: right;\">\n",
       "      <th></th>\n",
       "      <th>Year</th>\n",
       "      <th>num_ind</th>\n",
       "    </tr>\n",
       "  </thead>\n",
       "  <tbody>\n",
       "    <tr>\n",
       "      <th>0</th>\n",
       "      <td>1960</td>\n",
       "      <td>84</td>\n",
       "    </tr>\n",
       "    <tr>\n",
       "      <th>1</th>\n",
       "      <td>1961</td>\n",
       "      <td>96</td>\n",
       "    </tr>\n",
       "    <tr>\n",
       "      <th>2</th>\n",
       "      <td>1962</td>\n",
       "      <td>110</td>\n",
       "    </tr>\n",
       "    <tr>\n",
       "      <th>3</th>\n",
       "      <td>1963</td>\n",
       "      <td>106</td>\n",
       "    </tr>\n",
       "    <tr>\n",
       "      <th>4</th>\n",
       "      <td>1964</td>\n",
       "      <td>108</td>\n",
       "    </tr>\n",
       "    <tr>\n",
       "      <th>...</th>\n",
       "      <td>...</td>\n",
       "      <td>...</td>\n",
       "    </tr>\n",
       "    <tr>\n",
       "      <th>51</th>\n",
       "      <td>2011</td>\n",
       "      <td>736</td>\n",
       "    </tr>\n",
       "    <tr>\n",
       "      <th>52</th>\n",
       "      <td>2012</td>\n",
       "      <td>722</td>\n",
       "    </tr>\n",
       "    <tr>\n",
       "      <th>53</th>\n",
       "      <td>2013</td>\n",
       "      <td>657</td>\n",
       "    </tr>\n",
       "    <tr>\n",
       "      <th>54</th>\n",
       "      <td>2014</td>\n",
       "      <td>466</td>\n",
       "    </tr>\n",
       "    <tr>\n",
       "      <th>55</th>\n",
       "      <td>2015</td>\n",
       "      <td>49</td>\n",
       "    </tr>\n",
       "  </tbody>\n",
       "</table>\n",
       "<p>56 rows × 2 columns</p>\n",
       "</div>"
      ],
      "text/plain": [
       "    Year  num_ind\n",
       "0   1960       84\n",
       "1   1961       96\n",
       "2   1962      110\n",
       "3   1963      106\n",
       "4   1964      108\n",
       "..   ...      ...\n",
       "51  2011      736\n",
       "52  2012      722\n",
       "53  2013      657\n",
       "54  2014      466\n",
       "55  2015       49\n",
       "\n",
       "[56 rows x 2 columns]"
      ]
     },
     "execution_count": 28,
     "metadata": {},
     "output_type": "execute_result"
    }
   ],
   "source": [
    "ger_ind_per_year = pd.read_sql(\"\"\"  SELECT Year, COUNT(*) AS num_ind\n",
    "                                    FROM Indicators\n",
    "                                    WHERE CountryName = 'Germany'\n",
    "                                    GROUP BY Year;\"\"\",conn)\n",
    "ger_ind_per_year"
   ]
  },
  {
   "cell_type": "code",
   "execution_count": 29,
   "metadata": {
    "execution": {
     "iopub.execute_input": "2021-03-11T16:13:57.718513Z",
     "iopub.status.busy": "2021-03-11T16:13:57.717614Z",
     "iopub.status.idle": "2021-03-11T16:13:59.970418Z",
     "shell.execute_reply": "2021-03-11T16:13:59.970942Z"
    },
    "papermill": {
     "duration": 2.307398,
     "end_time": "2021-03-11T16:13:59.971115",
     "exception": false,
     "start_time": "2021-03-11T16:13:57.663717",
     "status": "completed"
    },
    "tags": []
   },
   "outputs": [
    {
     "data": {
      "image/png": "[encoded data removed]",
      "text/plain": [
       "<Figure size 1440x576 with 1 Axes>"
      ]
     },
     "metadata": {},
     "output_type": "display_data"
    }
   ],
   "source": [
    "# Visualizing indicators for Germany\n",
    "fig, ax = plt.subplots(figsize=(20,8))\n",
    "colors = sns.color_palette('cubehelix_r',58)\n",
    "sns.barplot(x=\"Year\", y=\"num_ind\", data=ger_ind_per_year,palette=colors)\n",
    "ax.set(ylabel='Number of Indicators',xlabel=None)\n",
    "ax.set_title('Number of Indicators Per Year for Germany', fontsize = 16)\n",
    "for ax in fig.axes:\n",
    "    for label in ax.get_xticklabels():\n",
    "        label.set_rotation(-90)"
   ]
  },
  {
   "cell_type": "markdown",
   "metadata": {
    "papermill": {
     "duration": 0.054574,
     "end_time": "2021-03-11T16:14:00.078117",
     "exception": false,
     "start_time": "2021-03-11T16:14:00.023543",
     "status": "completed"
    },
    "tags": []
   },
   "source": [
    "### Question: How many indicators are \"lost\", i.e. <span style=\"color:red\">not</span> included about Germany in 2014 that were included in 2013?"
   ]
  },
  {
   "cell_type": "code",
   "execution_count": 30,
   "metadata": {
    "execution": {
     "iopub.execute_input": "2021-03-11T16:14:00.186539Z",
     "iopub.status.busy": "2021-03-11T16:14:00.185623Z",
     "iopub.status.idle": "2021-03-11T16:14:00.601129Z",
     "shell.execute_reply": "2021-03-11T16:14:00.600456Z"
    },
    "papermill": {
     "duration": 0.4709,
     "end_time": "2021-03-11T16:14:00.601268",
     "exception": false,
     "start_time": "2021-03-11T16:14:00.130368",
     "status": "completed"
    },
    "tags": []
   },
   "outputs": [
    {
     "data": {
      "text/html": [
       "<div>\n",
       "<style scoped>\n",
       "    .dataframe tbody tr th:only-of-type {\n",
       "        vertical-align: middle;\n",
       "    }\n",
       "\n",
       "    .dataframe tbody tr th {\n",
       "        vertical-align: top;\n",
       "    }\n",
       "\n",
       "    .dataframe thead th {\n",
       "        text-align: right;\n",
       "    }\n",
       "</style>\n",
       "<table border=\"1\" class=\"dataframe\">\n",
       "  <thead>\n",
       "    <tr style=\"text-align: right;\">\n",
       "      <th></th>\n",
       "      <th>Num_ind</th>\n",
       "    </tr>\n",
       "  </thead>\n",
       "  <tbody>\n",
       "    <tr>\n",
       "      <th>0</th>\n",
       "      <td>208</td>\n",
       "    </tr>\n",
       "  </tbody>\n",
       "</table>\n",
       "</div>"
      ],
      "text/plain": [
       "   Num_ind\n",
       "0      208"
      ]
     },
     "execution_count": 30,
     "metadata": {},
     "output_type": "execute_result"
    }
   ],
   "source": [
    "# Number of indicators present in 2013 but not present in 2014\n",
    "pd.read_sql(\"\"\" WITH cte_ger_2013 AS (\n",
    "                    SELECT *\n",
    "                    FROM Indicators\n",
    "                    WHERE CountryName = 'Germany' AND Year = 2013\n",
    "                    ),\n",
    "\n",
    "                    cte_ger_2014 AS (\n",
    "                    SELECT *\n",
    "                    FROM Indicators\n",
    "                    WHERE CountryName = 'Germany' AND Year = 2014)\n",
    "                \n",
    "                SELECT COUNT(*) AS Num_ind\n",
    "                FROM cte_ger_2013 g_13\n",
    "                LEFT JOIN cte_ger_2014 g_14\n",
    "                USING (IndicatorName)\n",
    "                WHERE g_14.Value IS NULL;\"\"\", conn)"
   ]
  },
  {
   "cell_type": "markdown",
   "metadata": {
    "papermill": {
     "duration": 0.052176,
     "end_time": "2021-03-11T16:14:00.706715",
     "exception": false,
     "start_time": "2021-03-11T16:14:00.654539",
     "status": "completed"
    },
    "tags": []
   },
   "source": [
    "**Answer:** there are 208 indicators \"lost\" from 2013 to 2014 about Germany. "
   ]
  },
  {
   "cell_type": "markdown",
   "metadata": {
    "papermill": {
     "duration": 0.052069,
     "end_time": "2021-03-11T16:14:00.811292",
     "exception": false,
     "start_time": "2021-03-11T16:14:00.759223",
     "status": "completed"
    },
    "tags": []
   },
   "source": [
    "### Question: What is the distribution of land area of South Asian countries?"
   ]
  },
  {
   "cell_type": "code",
   "execution_count": 31,
   "metadata": {
    "execution": {
     "iopub.execute_input": "2021-03-11T16:14:00.923545Z",
     "iopub.status.busy": "2021-03-11T16:14:00.922691Z",
     "iopub.status.idle": "2021-03-11T16:14:04.172931Z",
     "shell.execute_reply": "2021-03-11T16:14:04.173426Z"
    },
    "papermill": {
     "duration": 3.309694,
     "end_time": "2021-03-11T16:14:04.173607",
     "exception": false,
     "start_time": "2021-03-11T16:14:00.863913",
     "status": "completed"
    },
    "tags": []
   },
   "outputs": [
    {
     "data": {
      "text/html": [
       "<div>\n",
       "<style scoped>\n",
       "    .dataframe tbody tr th:only-of-type {\n",
       "        vertical-align: middle;\n",
       "    }\n",
       "\n",
       "    .dataframe tbody tr th {\n",
       "        vertical-align: top;\n",
       "    }\n",
       "\n",
       "    .dataframe thead th {\n",
       "        text-align: right;\n",
       "    }\n",
       "</style>\n",
       "<table border=\"1\" class=\"dataframe\">\n",
       "  <thead>\n",
       "    <tr style=\"text-align: right;\">\n",
       "      <th></th>\n",
       "      <th>CountryName</th>\n",
       "      <th>Value</th>\n",
       "    </tr>\n",
       "  </thead>\n",
       "  <tbody>\n",
       "    <tr>\n",
       "      <th>0</th>\n",
       "      <td>Maldives</td>\n",
       "      <td>300</td>\n",
       "    </tr>\n",
       "    <tr>\n",
       "      <th>1</th>\n",
       "      <td>Bhutan</td>\n",
       "      <td>38117</td>\n",
       "    </tr>\n",
       "    <tr>\n",
       "      <th>2</th>\n",
       "      <td>Sri Lanka</td>\n",
       "      <td>62710</td>\n",
       "    </tr>\n",
       "    <tr>\n",
       "      <th>3</th>\n",
       "      <td>Bangladesh</td>\n",
       "      <td>130170</td>\n",
       "    </tr>\n",
       "    <tr>\n",
       "      <th>4</th>\n",
       "      <td>Nepal</td>\n",
       "      <td>143350</td>\n",
       "    </tr>\n",
       "    <tr>\n",
       "      <th>5</th>\n",
       "      <td>Afghanistan</td>\n",
       "      <td>652860</td>\n",
       "    </tr>\n",
       "    <tr>\n",
       "      <th>6</th>\n",
       "      <td>Pakistan</td>\n",
       "      <td>770880</td>\n",
       "    </tr>\n",
       "    <tr>\n",
       "      <th>7</th>\n",
       "      <td>India</td>\n",
       "      <td>2973190</td>\n",
       "    </tr>\n",
       "  </tbody>\n",
       "</table>\n",
       "</div>"
      ],
      "text/plain": [
       "   CountryName    Value\n",
       "0     Maldives      300\n",
       "1       Bhutan    38117\n",
       "2    Sri Lanka    62710\n",
       "3   Bangladesh   130170\n",
       "4        Nepal   143350\n",
       "5  Afghanistan   652860\n",
       "6     Pakistan   770880\n",
       "7        India  2973190"
      ]
     },
     "execution_count": 31,
     "metadata": {},
     "output_type": "execute_result"
    }
   ],
   "source": [
    "# Saving land area of countries in South Asia\n",
    "land_south_asia = pd.read_sql(\"\"\" SELECT i.CountryName, i.Value\n",
    "                                    FROM Indicators i\n",
    "                                    LEFT JOIN Country c\n",
    "                                    USING (CountryCode)\n",
    "                                    WHERE c.Region = 'South Asia'\n",
    "                                    AND i.IndicatorName = 'Land area (sq. km)'\n",
    "                                    AND i.Year = 2010\n",
    "                                    ORDER BY 2;\"\"\",conn)\n",
    "land_south_asia"
   ]
  },
  {
   "cell_type": "code",
   "execution_count": 32,
   "metadata": {
    "execution": {
     "iopub.execute_input": "2021-03-11T16:14:04.416193Z",
     "iopub.status.busy": "2021-03-11T16:14:04.414509Z",
     "iopub.status.idle": "2021-03-11T16:14:04.651578Z",
     "shell.execute_reply": "2021-03-11T16:14:04.650966Z"
    },
    "papermill": {
     "duration": 0.423304,
     "end_time": "2021-03-11T16:14:04.651778",
     "exception": false,
     "start_time": "2021-03-11T16:14:04.228474",
     "status": "completed"
    },
    "tags": []
   },
   "outputs": [
    {
     "data": {
      "image/png": "[encoded data removed]",
      "text/plain": [
       "<Figure size 864x576 with 1 Axes>"
      ]
     },
     "metadata": {},
     "output_type": "display_data"
    }
   ],
   "source": [
    "# Visualizing the distribution of land area by country in South Asia\n",
    "land_south_asia['land_percent'] = round(land_south_asia.Value / land_south_asia.Value.sum() * 100,1)\n",
    "fig, ax = plt.subplots(figsize=(12,8))\n",
    "colors=sns.color_palette('cubehelix',14)\n",
    "sns.barplot(x=\"CountryName\", y=\"land_percent\", data=land_south_asia,palette=colors)\n",
    "ax.set(ylabel='Percentage of Total Land Area',xlabel=None)\n",
    "ax.set_title('Distribution of Land Area of South Asian Countries', fontsize = 16)\n",
    "for p in ax.patches: # displaying percentages\n",
    "    height = p.get_height()\n",
    "    ax.text(p.get_x()+p.get_width()/2., height+1, '{:.1f}%'.format(height), horizontalalignment='center', fontsize=12) "
   ]
  }
 ],
 "metadata": {
  "kernelspec": {
   "display_name": "Python 3",
   "language": "python",
   "name": "python3"
  },
  "language_info": {
   "codemirror_mode": {
    "name": "ipython",
    "version": 3
   },
   "file_extension": ".py",
   "mimetype": "text/x-python",
   "name": "python",
   "nbconvert_exporter": "python",
   "pygments_lexer": "ipython3",
   "version": "3.7.9"
  },
  "papermill": {
   "default_parameters": {},
   "duration": 79.297557,
   "end_time": "2021-03-11T16:14:05.316728",
   "environment_variables": {},
   "exception": null,
   "input_path": "__notebook__.ipynb",
   "output_path": "__notebook__.ipynb",
   "parameters": {},
   "start_time": "2021-03-11T16:12:46.019171",
   "version": "2.2.2"
  }
 },
 "nbformat": 4,
 "nbformat_minor": 4
}
